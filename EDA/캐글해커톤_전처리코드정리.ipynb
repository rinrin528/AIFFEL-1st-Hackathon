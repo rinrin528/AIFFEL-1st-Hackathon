{
  "nbformat": 4,
  "nbformat_minor": 0,
  "metadata": {
    "colab": {
      "name": "캐글해커톤_전처리코드정리.ipynb",
      "provenance": [],
      "collapsed_sections": [],
      "include_colab_link": true
    },
    "kernelspec": {
      "name": "python3",
      "display_name": "Python 3"
    },
    "language_info": {
      "name": "python"
    }
  },
  "cells": [
    {
      "cell_type": "markdown",
      "metadata": {
        "id": "view-in-github",
        "colab_type": "text"
      },
      "source": [
        "<a href=\"https://colab.research.google.com/github/rinrin528/AIFFEL-1st-Hackathon/blob/main/EDA/%EC%BA%90%EA%B8%80%ED%95%B4%EC%BB%A4%ED%86%A4_%EC%A0%84%EC%B2%98%EB%A6%AC%EC%BD%94%EB%93%9C%EC%A0%95%EB%A6%AC.ipynb\" target=\"_parent\"><img src=\"https://colab.research.google.com/assets/colab-badge.svg\" alt=\"Open In Colab\"/></a>"
      ]
    },
    {
      "cell_type": "code",
      "metadata": {
        "colab": {
          "base_uri": "https://localhost:8080/"
        },
        "id": "yP3pPjbD5KUX",
        "outputId": "adc97294-4464-4827-f5b0-ed1c01aecca9"
      },
      "source": [
        "from google.colab import drive\n",
        "drive.mount('/content/gdrive/')"
      ],
      "execution_count": null,
      "outputs": [
        {
          "output_type": "stream",
          "text": [
            "Drive already mounted at /content/gdrive/; to attempt to forcibly remount, call drive.mount(\"/content/gdrive/\", force_remount=True).\n"
          ],
          "name": "stdout"
        }
      ]
    },
    {
      "cell_type": "code",
      "metadata": {
        "id": "jFmzX_hfBGVZ"
      },
      "source": [
        "import pandas as pd\n",
        "import numpy as np\n",
        "import time, datetime\n",
        "from sklearn import preprocessing\n",
        "import lightgbm as lgb\n",
        "from sklearn.model_selection import GridSearchCV\n",
        "\n",
        "from sklearn.preprocessing import MinMaxScaler, StandardScaler ,RobustScaler\n",
        "\n",
        "import warnings\n",
        "warnings.filterwarnings(\"ignore\")"
      ],
      "execution_count": null,
      "outputs": []
    },
    {
      "cell_type": "markdown",
      "metadata": {
        "id": "fqC_CsfTxmG_"
      },
      "source": [
        "# **파일 불러오기**"
      ]
    },
    {
      "cell_type": "code",
      "metadata": {
        "id": "kCKcZvFdRFy4"
      },
      "source": [
        "path='/content/gdrive/MyDrive/AIFFEL/해커톤 1/recruit-restaurant-visitor-forecasting/'"
      ],
      "execution_count": null,
      "outputs": []
    },
    {
      "cell_type": "code",
      "metadata": {
        "id": "j3H9k3i28xD2"
      },
      "source": [
        "data = {\n",
        "    'tra': pd.read_csv(path+'air_visit_data.csv.zip'),\n",
        "    'as': pd.read_csv(path+'air_store_info.csv.zip'),\n",
        "    'hs': pd.read_csv(path+'hpg_store_info.csv.zip'),\n",
        "    'ar': pd.read_csv(path+'air_reserve.csv.zip'),\n",
        "    'hr': pd.read_csv(path+'hpg_reserve.csv.zip'),\n",
        "    'id': pd.read_csv(path+'store_id_relation.csv.zip'),\n",
        "    'tes': pd.read_csv(path+'sample_submission.csv.zip'),\n",
        "    'hol': pd.read_csv(path+'date_info.csv.zip').rename(columns={'calendar_date':'visit_date'})\n",
        "    }"
      ],
      "execution_count": null,
      "outputs": []
    },
    {
      "cell_type": "markdown",
      "metadata": {
        "id": "y2Rr5k0JyUxD"
      },
      "source": [
        "#  **데이터 확인하기**"
      ]
    },
    {
      "cell_type": "markdown",
      "metadata": {
        "id": "RSV9BJJg7C6q"
      },
      "source": [
        "##### **tra** : air restaurants의 과거 방문 data, main training data set (air_visit_data.csv)\n",
        "* 총 데이터 수 : 252108개\n",
        "* 방문기록이 있는 air_store_id : 829개\n"
      ]
    },
    {
      "cell_type": "code",
      "metadata": {
        "colab": {
          "base_uri": "https://localhost:8080/",
          "height": 203
        },
        "id": "WHZh1uOpyT1j",
        "outputId": "3e6e0742-57cf-47ba-97a2-2026cc4b8814"
      },
      "source": [
        "data['tra'].head()"
      ],
      "execution_count": null,
      "outputs": [
        {
          "output_type": "execute_result",
          "data": {
            "text/html": [
              "<div>\n",
              "<style scoped>\n",
              "    .dataframe tbody tr th:only-of-type {\n",
              "        vertical-align: middle;\n",
              "    }\n",
              "\n",
              "    .dataframe tbody tr th {\n",
              "        vertical-align: top;\n",
              "    }\n",
              "\n",
              "    .dataframe thead th {\n",
              "        text-align: right;\n",
              "    }\n",
              "</style>\n",
              "<table border=\"1\" class=\"dataframe\">\n",
              "  <thead>\n",
              "    <tr style=\"text-align: right;\">\n",
              "      <th></th>\n",
              "      <th>air_store_id</th>\n",
              "      <th>visit_date</th>\n",
              "      <th>visitors</th>\n",
              "    </tr>\n",
              "  </thead>\n",
              "  <tbody>\n",
              "    <tr>\n",
              "      <th>0</th>\n",
              "      <td>air_ba937bf13d40fb24</td>\n",
              "      <td>2016-01-13</td>\n",
              "      <td>25</td>\n",
              "    </tr>\n",
              "    <tr>\n",
              "      <th>1</th>\n",
              "      <td>air_ba937bf13d40fb24</td>\n",
              "      <td>2016-01-14</td>\n",
              "      <td>32</td>\n",
              "    </tr>\n",
              "    <tr>\n",
              "      <th>2</th>\n",
              "      <td>air_ba937bf13d40fb24</td>\n",
              "      <td>2016-01-15</td>\n",
              "      <td>29</td>\n",
              "    </tr>\n",
              "    <tr>\n",
              "      <th>3</th>\n",
              "      <td>air_ba937bf13d40fb24</td>\n",
              "      <td>2016-01-16</td>\n",
              "      <td>22</td>\n",
              "    </tr>\n",
              "    <tr>\n",
              "      <th>4</th>\n",
              "      <td>air_ba937bf13d40fb24</td>\n",
              "      <td>2016-01-18</td>\n",
              "      <td>6</td>\n",
              "    </tr>\n",
              "  </tbody>\n",
              "</table>\n",
              "</div>"
            ],
            "text/plain": [
              "           air_store_id  visit_date  visitors\n",
              "0  air_ba937bf13d40fb24  2016-01-13        25\n",
              "1  air_ba937bf13d40fb24  2016-01-14        32\n",
              "2  air_ba937bf13d40fb24  2016-01-15        29\n",
              "3  air_ba937bf13d40fb24  2016-01-16        22\n",
              "4  air_ba937bf13d40fb24  2016-01-18         6"
            ]
          },
          "metadata": {
            "tags": []
          },
          "execution_count": 463
        }
      ]
    },
    {
      "cell_type": "markdown",
      "metadata": {
        "id": "HyNEVpHi7V6f"
      },
      "source": [
        "##### **as** : air 레스토랑 세부 정보 (air_store_info.csv)\n",
        "* air 레스토랑 세부 정보가 존재하는 식당 수   : 829개"
      ]
    },
    {
      "cell_type": "code",
      "metadata": {
        "colab": {
          "base_uri": "https://localhost:8080/",
          "height": 203
        },
        "id": "JxpfAh5g5nJN",
        "outputId": "f64b5452-4542-4698-efa4-987f1883ff89"
      },
      "source": [
        "data['as'].head()"
      ],
      "execution_count": null,
      "outputs": [
        {
          "output_type": "execute_result",
          "data": {
            "text/html": [
              "<div>\n",
              "<style scoped>\n",
              "    .dataframe tbody tr th:only-of-type {\n",
              "        vertical-align: middle;\n",
              "    }\n",
              "\n",
              "    .dataframe tbody tr th {\n",
              "        vertical-align: top;\n",
              "    }\n",
              "\n",
              "    .dataframe thead th {\n",
              "        text-align: right;\n",
              "    }\n",
              "</style>\n",
              "<table border=\"1\" class=\"dataframe\">\n",
              "  <thead>\n",
              "    <tr style=\"text-align: right;\">\n",
              "      <th></th>\n",
              "      <th>air_store_id</th>\n",
              "      <th>air_genre_name</th>\n",
              "      <th>air_area_name</th>\n",
              "      <th>latitude</th>\n",
              "      <th>longitude</th>\n",
              "    </tr>\n",
              "  </thead>\n",
              "  <tbody>\n",
              "    <tr>\n",
              "      <th>0</th>\n",
              "      <td>air_0f0cdeee6c9bf3d7</td>\n",
              "      <td>Italian/French</td>\n",
              "      <td>Hyōgo-ken Kōbe-shi Kumoidōri</td>\n",
              "      <td>34.695124</td>\n",
              "      <td>135.197852</td>\n",
              "    </tr>\n",
              "    <tr>\n",
              "      <th>1</th>\n",
              "      <td>air_7cc17a324ae5c7dc</td>\n",
              "      <td>Italian/French</td>\n",
              "      <td>Hyōgo-ken Kōbe-shi Kumoidōri</td>\n",
              "      <td>34.695124</td>\n",
              "      <td>135.197852</td>\n",
              "    </tr>\n",
              "    <tr>\n",
              "      <th>2</th>\n",
              "      <td>air_fee8dcf4d619598e</td>\n",
              "      <td>Italian/French</td>\n",
              "      <td>Hyōgo-ken Kōbe-shi Kumoidōri</td>\n",
              "      <td>34.695124</td>\n",
              "      <td>135.197852</td>\n",
              "    </tr>\n",
              "    <tr>\n",
              "      <th>3</th>\n",
              "      <td>air_a17f0778617c76e2</td>\n",
              "      <td>Italian/French</td>\n",
              "      <td>Hyōgo-ken Kōbe-shi Kumoidōri</td>\n",
              "      <td>34.695124</td>\n",
              "      <td>135.197852</td>\n",
              "    </tr>\n",
              "    <tr>\n",
              "      <th>4</th>\n",
              "      <td>air_83db5aff8f50478e</td>\n",
              "      <td>Italian/French</td>\n",
              "      <td>Tōkyō-to Minato-ku Shibakōen</td>\n",
              "      <td>35.658068</td>\n",
              "      <td>139.751599</td>\n",
              "    </tr>\n",
              "  </tbody>\n",
              "</table>\n",
              "</div>"
            ],
            "text/plain": [
              "           air_store_id  air_genre_name  ...   latitude   longitude\n",
              "0  air_0f0cdeee6c9bf3d7  Italian/French  ...  34.695124  135.197852\n",
              "1  air_7cc17a324ae5c7dc  Italian/French  ...  34.695124  135.197852\n",
              "2  air_fee8dcf4d619598e  Italian/French  ...  34.695124  135.197852\n",
              "3  air_a17f0778617c76e2  Italian/French  ...  34.695124  135.197852\n",
              "4  air_83db5aff8f50478e  Italian/French  ...  35.658068  139.751599\n",
              "\n",
              "[5 rows x 5 columns]"
            ]
          },
          "metadata": {
            "tags": []
          },
          "execution_count": 464
        }
      ]
    },
    {
      "cell_type": "markdown",
      "metadata": {
        "id": "5eHMZpHH7i7x"
      },
      "source": [
        "##### **hs** : hpg 레스토랑 세부 정보 (hpg_store_info.csv)\n",
        "* * hpg 레스토랑 세부 정보가 존재하는 식당 수   : 4690개"
      ]
    },
    {
      "cell_type": "code",
      "metadata": {
        "colab": {
          "base_uri": "https://localhost:8080/",
          "height": 203
        },
        "id": "7OmUhaLT77dO",
        "outputId": "ac181b17-f2e8-46e6-a4c9-f77c4f115d15"
      },
      "source": [
        "data['hs'].head()"
      ],
      "execution_count": null,
      "outputs": [
        {
          "output_type": "execute_result",
          "data": {
            "text/html": [
              "<div>\n",
              "<style scoped>\n",
              "    .dataframe tbody tr th:only-of-type {\n",
              "        vertical-align: middle;\n",
              "    }\n",
              "\n",
              "    .dataframe tbody tr th {\n",
              "        vertical-align: top;\n",
              "    }\n",
              "\n",
              "    .dataframe thead th {\n",
              "        text-align: right;\n",
              "    }\n",
              "</style>\n",
              "<table border=\"1\" class=\"dataframe\">\n",
              "  <thead>\n",
              "    <tr style=\"text-align: right;\">\n",
              "      <th></th>\n",
              "      <th>hpg_store_id</th>\n",
              "      <th>hpg_genre_name</th>\n",
              "      <th>hpg_area_name</th>\n",
              "      <th>latitude</th>\n",
              "      <th>longitude</th>\n",
              "    </tr>\n",
              "  </thead>\n",
              "  <tbody>\n",
              "    <tr>\n",
              "      <th>0</th>\n",
              "      <td>hpg_6622b62385aec8bf</td>\n",
              "      <td>Japanese style</td>\n",
              "      <td>Tōkyō-to Setagaya-ku Taishidō</td>\n",
              "      <td>35.643675</td>\n",
              "      <td>139.668221</td>\n",
              "    </tr>\n",
              "    <tr>\n",
              "      <th>1</th>\n",
              "      <td>hpg_e9e068dd49c5fa00</td>\n",
              "      <td>Japanese style</td>\n",
              "      <td>Tōkyō-to Setagaya-ku Taishidō</td>\n",
              "      <td>35.643675</td>\n",
              "      <td>139.668221</td>\n",
              "    </tr>\n",
              "    <tr>\n",
              "      <th>2</th>\n",
              "      <td>hpg_2976f7acb4b3a3bc</td>\n",
              "      <td>Japanese style</td>\n",
              "      <td>Tōkyō-to Setagaya-ku Taishidō</td>\n",
              "      <td>35.643675</td>\n",
              "      <td>139.668221</td>\n",
              "    </tr>\n",
              "    <tr>\n",
              "      <th>3</th>\n",
              "      <td>hpg_e51a522e098f024c</td>\n",
              "      <td>Japanese style</td>\n",
              "      <td>Tōkyō-to Setagaya-ku Taishidō</td>\n",
              "      <td>35.643675</td>\n",
              "      <td>139.668221</td>\n",
              "    </tr>\n",
              "    <tr>\n",
              "      <th>4</th>\n",
              "      <td>hpg_e3d0e1519894f275</td>\n",
              "      <td>Japanese style</td>\n",
              "      <td>Tōkyō-to Setagaya-ku Taishidō</td>\n",
              "      <td>35.643675</td>\n",
              "      <td>139.668221</td>\n",
              "    </tr>\n",
              "  </tbody>\n",
              "</table>\n",
              "</div>"
            ],
            "text/plain": [
              "           hpg_store_id  hpg_genre_name  ...   latitude   longitude\n",
              "0  hpg_6622b62385aec8bf  Japanese style  ...  35.643675  139.668221\n",
              "1  hpg_e9e068dd49c5fa00  Japanese style  ...  35.643675  139.668221\n",
              "2  hpg_2976f7acb4b3a3bc  Japanese style  ...  35.643675  139.668221\n",
              "3  hpg_e51a522e098f024c  Japanese style  ...  35.643675  139.668221\n",
              "4  hpg_e3d0e1519894f275  Japanese style  ...  35.643675  139.668221\n",
              "\n",
              "[5 rows x 5 columns]"
            ]
          },
          "metadata": {
            "tags": []
          },
          "execution_count": 465
        }
      ]
    },
    {
      "cell_type": "markdown",
      "metadata": {
        "id": "o-LDyBQd8PtA"
      },
      "source": [
        "##### **ar** : air 레스토랑 예약 시스템 (air_reserve.csv)\n",
        "* 총 데이터 수 : 92378개\n",
        "* air 예약된 식당 수 : 314개"
      ]
    },
    {
      "cell_type": "code",
      "metadata": {
        "colab": {
          "base_uri": "https://localhost:8080/",
          "height": 203
        },
        "id": "6_8po_N98fOT",
        "outputId": "155c1263-2179-4789-c618-8c45cdf921db"
      },
      "source": [
        "data['ar'].head()"
      ],
      "execution_count": null,
      "outputs": [
        {
          "output_type": "execute_result",
          "data": {
            "text/html": [
              "<div>\n",
              "<style scoped>\n",
              "    .dataframe tbody tr th:only-of-type {\n",
              "        vertical-align: middle;\n",
              "    }\n",
              "\n",
              "    .dataframe tbody tr th {\n",
              "        vertical-align: top;\n",
              "    }\n",
              "\n",
              "    .dataframe thead th {\n",
              "        text-align: right;\n",
              "    }\n",
              "</style>\n",
              "<table border=\"1\" class=\"dataframe\">\n",
              "  <thead>\n",
              "    <tr style=\"text-align: right;\">\n",
              "      <th></th>\n",
              "      <th>air_store_id</th>\n",
              "      <th>visit_datetime</th>\n",
              "      <th>reserve_datetime</th>\n",
              "      <th>reserve_visitors</th>\n",
              "    </tr>\n",
              "  </thead>\n",
              "  <tbody>\n",
              "    <tr>\n",
              "      <th>0</th>\n",
              "      <td>air_877f79706adbfb06</td>\n",
              "      <td>2016-01-01 19:00:00</td>\n",
              "      <td>2016-01-01 16:00:00</td>\n",
              "      <td>1</td>\n",
              "    </tr>\n",
              "    <tr>\n",
              "      <th>1</th>\n",
              "      <td>air_db4b38ebe7a7ceff</td>\n",
              "      <td>2016-01-01 19:00:00</td>\n",
              "      <td>2016-01-01 19:00:00</td>\n",
              "      <td>3</td>\n",
              "    </tr>\n",
              "    <tr>\n",
              "      <th>2</th>\n",
              "      <td>air_db4b38ebe7a7ceff</td>\n",
              "      <td>2016-01-01 19:00:00</td>\n",
              "      <td>2016-01-01 19:00:00</td>\n",
              "      <td>6</td>\n",
              "    </tr>\n",
              "    <tr>\n",
              "      <th>3</th>\n",
              "      <td>air_877f79706adbfb06</td>\n",
              "      <td>2016-01-01 20:00:00</td>\n",
              "      <td>2016-01-01 16:00:00</td>\n",
              "      <td>2</td>\n",
              "    </tr>\n",
              "    <tr>\n",
              "      <th>4</th>\n",
              "      <td>air_db80363d35f10926</td>\n",
              "      <td>2016-01-01 20:00:00</td>\n",
              "      <td>2016-01-01 01:00:00</td>\n",
              "      <td>5</td>\n",
              "    </tr>\n",
              "  </tbody>\n",
              "</table>\n",
              "</div>"
            ],
            "text/plain": [
              "           air_store_id  ... reserve_visitors\n",
              "0  air_877f79706adbfb06  ...                1\n",
              "1  air_db4b38ebe7a7ceff  ...                3\n",
              "2  air_db4b38ebe7a7ceff  ...                6\n",
              "3  air_877f79706adbfb06  ...                2\n",
              "4  air_db80363d35f10926  ...                5\n",
              "\n",
              "[5 rows x 4 columns]"
            ]
          },
          "metadata": {
            "tags": []
          },
          "execution_count": 466
        }
      ]
    },
    {
      "cell_type": "markdown",
      "metadata": {
        "id": "Rj6a3I-C9MAc"
      },
      "source": [
        "##### **hr** : hpg 레스토랑 예약 시스템 (hpg_reserve.csv)\n",
        "* 총 데이터 수 : 2000320개\n",
        "* hpg 예약된 식당 수 : 13325개"
      ]
    },
    {
      "cell_type": "code",
      "metadata": {
        "colab": {
          "base_uri": "https://localhost:8080/",
          "height": 203
        },
        "id": "qitLOtvD9Lbq",
        "outputId": "95ef8151-d0a0-41b5-efe8-d15d4e604f1f"
      },
      "source": [
        "data['hr'].head()"
      ],
      "execution_count": null,
      "outputs": [
        {
          "output_type": "execute_result",
          "data": {
            "text/html": [
              "<div>\n",
              "<style scoped>\n",
              "    .dataframe tbody tr th:only-of-type {\n",
              "        vertical-align: middle;\n",
              "    }\n",
              "\n",
              "    .dataframe tbody tr th {\n",
              "        vertical-align: top;\n",
              "    }\n",
              "\n",
              "    .dataframe thead th {\n",
              "        text-align: right;\n",
              "    }\n",
              "</style>\n",
              "<table border=\"1\" class=\"dataframe\">\n",
              "  <thead>\n",
              "    <tr style=\"text-align: right;\">\n",
              "      <th></th>\n",
              "      <th>hpg_store_id</th>\n",
              "      <th>visit_datetime</th>\n",
              "      <th>reserve_datetime</th>\n",
              "      <th>reserve_visitors</th>\n",
              "    </tr>\n",
              "  </thead>\n",
              "  <tbody>\n",
              "    <tr>\n",
              "      <th>0</th>\n",
              "      <td>hpg_c63f6f42e088e50f</td>\n",
              "      <td>2016-01-01 11:00:00</td>\n",
              "      <td>2016-01-01 09:00:00</td>\n",
              "      <td>1</td>\n",
              "    </tr>\n",
              "    <tr>\n",
              "      <th>1</th>\n",
              "      <td>hpg_dac72789163a3f47</td>\n",
              "      <td>2016-01-01 13:00:00</td>\n",
              "      <td>2016-01-01 06:00:00</td>\n",
              "      <td>3</td>\n",
              "    </tr>\n",
              "    <tr>\n",
              "      <th>2</th>\n",
              "      <td>hpg_c8e24dcf51ca1eb5</td>\n",
              "      <td>2016-01-01 16:00:00</td>\n",
              "      <td>2016-01-01 14:00:00</td>\n",
              "      <td>2</td>\n",
              "    </tr>\n",
              "    <tr>\n",
              "      <th>3</th>\n",
              "      <td>hpg_24bb207e5fd49d4a</td>\n",
              "      <td>2016-01-01 17:00:00</td>\n",
              "      <td>2016-01-01 11:00:00</td>\n",
              "      <td>5</td>\n",
              "    </tr>\n",
              "    <tr>\n",
              "      <th>4</th>\n",
              "      <td>hpg_25291c542ebb3bc2</td>\n",
              "      <td>2016-01-01 17:00:00</td>\n",
              "      <td>2016-01-01 03:00:00</td>\n",
              "      <td>13</td>\n",
              "    </tr>\n",
              "  </tbody>\n",
              "</table>\n",
              "</div>"
            ],
            "text/plain": [
              "           hpg_store_id  ... reserve_visitors\n",
              "0  hpg_c63f6f42e088e50f  ...                1\n",
              "1  hpg_dac72789163a3f47  ...                3\n",
              "2  hpg_c8e24dcf51ca1eb5  ...                2\n",
              "3  hpg_24bb207e5fd49d4a  ...                5\n",
              "4  hpg_25291c542ebb3bc2  ...               13\n",
              "\n",
              "[5 rows x 4 columns]"
            ]
          },
          "metadata": {
            "tags": []
          },
          "execution_count": 467
        }
      ]
    },
    {
      "cell_type": "markdown",
      "metadata": {
        "id": "88ZsdmG79vIJ"
      },
      "source": [
        "##### **id** : 동일한 가게에 대한 air & hpg id (store_id_relation.csv)\n",
        "* 총 데이터 수 : 150개"
      ]
    },
    {
      "cell_type": "code",
      "metadata": {
        "colab": {
          "base_uri": "https://localhost:8080/",
          "height": 203
        },
        "id": "K1jVYtr0-EsI",
        "outputId": "044696a2-0606-4a05-836b-37a3487c4b50"
      },
      "source": [
        "data['id'].head()"
      ],
      "execution_count": null,
      "outputs": [
        {
          "output_type": "execute_result",
          "data": {
            "text/html": [
              "<div>\n",
              "<style scoped>\n",
              "    .dataframe tbody tr th:only-of-type {\n",
              "        vertical-align: middle;\n",
              "    }\n",
              "\n",
              "    .dataframe tbody tr th {\n",
              "        vertical-align: top;\n",
              "    }\n",
              "\n",
              "    .dataframe thead th {\n",
              "        text-align: right;\n",
              "    }\n",
              "</style>\n",
              "<table border=\"1\" class=\"dataframe\">\n",
              "  <thead>\n",
              "    <tr style=\"text-align: right;\">\n",
              "      <th></th>\n",
              "      <th>air_store_id</th>\n",
              "      <th>hpg_store_id</th>\n",
              "    </tr>\n",
              "  </thead>\n",
              "  <tbody>\n",
              "    <tr>\n",
              "      <th>0</th>\n",
              "      <td>air_63b13c56b7201bd9</td>\n",
              "      <td>hpg_4bc649e72e2a239a</td>\n",
              "    </tr>\n",
              "    <tr>\n",
              "      <th>1</th>\n",
              "      <td>air_a24bf50c3e90d583</td>\n",
              "      <td>hpg_c34b496d0305a809</td>\n",
              "    </tr>\n",
              "    <tr>\n",
              "      <th>2</th>\n",
              "      <td>air_c7f78b4f3cba33ff</td>\n",
              "      <td>hpg_cd8ae0d9bbd58ff9</td>\n",
              "    </tr>\n",
              "    <tr>\n",
              "      <th>3</th>\n",
              "      <td>air_947eb2cae4f3e8f2</td>\n",
              "      <td>hpg_de24ea49dc25d6b8</td>\n",
              "    </tr>\n",
              "    <tr>\n",
              "      <th>4</th>\n",
              "      <td>air_965b2e0cf4119003</td>\n",
              "      <td>hpg_653238a84804d8e7</td>\n",
              "    </tr>\n",
              "  </tbody>\n",
              "</table>\n",
              "</div>"
            ],
            "text/plain": [
              "           air_store_id          hpg_store_id\n",
              "0  air_63b13c56b7201bd9  hpg_4bc649e72e2a239a\n",
              "1  air_a24bf50c3e90d583  hpg_c34b496d0305a809\n",
              "2  air_c7f78b4f3cba33ff  hpg_cd8ae0d9bbd58ff9\n",
              "3  air_947eb2cae4f3e8f2  hpg_de24ea49dc25d6b8\n",
              "4  air_965b2e0cf4119003  hpg_653238a84804d8e7"
            ]
          },
          "metadata": {
            "tags": []
          },
          "execution_count": 468
        }
      ]
    },
    {
      "cell_type": "markdown",
      "metadata": {
        "id": "nbGYH3ag-QPb"
      },
      "source": [
        "##### **hol** : 일본 공휴일 정보 (date_info.csv)\n",
        "* 2016/01/01 ~ 2017/05/31 기간동안의 공휴일 정보\n",
        "* 데이터를 합칠 때를 위해 calendar_date를 visit_date로 컬럼명을 변경하였음"
      ]
    },
    {
      "cell_type": "code",
      "metadata": {
        "colab": {
          "base_uri": "https://localhost:8080/",
          "height": 203
        },
        "id": "_VxMPE3r-d99",
        "outputId": "7838b2c0-aaf2-4398-b956-556a98446203"
      },
      "source": [
        "data['hol'].head()"
      ],
      "execution_count": null,
      "outputs": [
        {
          "output_type": "execute_result",
          "data": {
            "text/html": [
              "<div>\n",
              "<style scoped>\n",
              "    .dataframe tbody tr th:only-of-type {\n",
              "        vertical-align: middle;\n",
              "    }\n",
              "\n",
              "    .dataframe tbody tr th {\n",
              "        vertical-align: top;\n",
              "    }\n",
              "\n",
              "    .dataframe thead th {\n",
              "        text-align: right;\n",
              "    }\n",
              "</style>\n",
              "<table border=\"1\" class=\"dataframe\">\n",
              "  <thead>\n",
              "    <tr style=\"text-align: right;\">\n",
              "      <th></th>\n",
              "      <th>visit_date</th>\n",
              "      <th>day_of_week</th>\n",
              "      <th>holiday_flg</th>\n",
              "    </tr>\n",
              "  </thead>\n",
              "  <tbody>\n",
              "    <tr>\n",
              "      <th>0</th>\n",
              "      <td>2016-01-01</td>\n",
              "      <td>Friday</td>\n",
              "      <td>1</td>\n",
              "    </tr>\n",
              "    <tr>\n",
              "      <th>1</th>\n",
              "      <td>2016-01-02</td>\n",
              "      <td>Saturday</td>\n",
              "      <td>1</td>\n",
              "    </tr>\n",
              "    <tr>\n",
              "      <th>2</th>\n",
              "      <td>2016-01-03</td>\n",
              "      <td>Sunday</td>\n",
              "      <td>1</td>\n",
              "    </tr>\n",
              "    <tr>\n",
              "      <th>3</th>\n",
              "      <td>2016-01-04</td>\n",
              "      <td>Monday</td>\n",
              "      <td>0</td>\n",
              "    </tr>\n",
              "    <tr>\n",
              "      <th>4</th>\n",
              "      <td>2016-01-05</td>\n",
              "      <td>Tuesday</td>\n",
              "      <td>0</td>\n",
              "    </tr>\n",
              "  </tbody>\n",
              "</table>\n",
              "</div>"
            ],
            "text/plain": [
              "   visit_date day_of_week  holiday_flg\n",
              "0  2016-01-01      Friday            1\n",
              "1  2016-01-02    Saturday            1\n",
              "2  2016-01-03      Sunday            1\n",
              "3  2016-01-04      Monday            0\n",
              "4  2016-01-05     Tuesday            0"
            ]
          },
          "metadata": {
            "tags": []
          },
          "execution_count": 469
        }
      ]
    },
    {
      "cell_type": "markdown",
      "metadata": {
        "id": "syK94Syd-7Ht"
      },
      "source": [
        "##### **tes** : test set으로 사용. (sample_submission.csv)\n",
        "* ’id’는 air id와 방문 날짜를 결합하여 생성"
      ]
    },
    {
      "cell_type": "code",
      "metadata": {
        "colab": {
          "base_uri": "https://localhost:8080/",
          "height": 203
        },
        "id": "gv1NIdrR_LPR",
        "outputId": "deb89d68-2a47-4fc4-9aed-e1f0b8a6f095"
      },
      "source": [
        "data['tes'].head()"
      ],
      "execution_count": null,
      "outputs": [
        {
          "output_type": "execute_result",
          "data": {
            "text/html": [
              "<div>\n",
              "<style scoped>\n",
              "    .dataframe tbody tr th:only-of-type {\n",
              "        vertical-align: middle;\n",
              "    }\n",
              "\n",
              "    .dataframe tbody tr th {\n",
              "        vertical-align: top;\n",
              "    }\n",
              "\n",
              "    .dataframe thead th {\n",
              "        text-align: right;\n",
              "    }\n",
              "</style>\n",
              "<table border=\"1\" class=\"dataframe\">\n",
              "  <thead>\n",
              "    <tr style=\"text-align: right;\">\n",
              "      <th></th>\n",
              "      <th>id</th>\n",
              "      <th>visitors</th>\n",
              "    </tr>\n",
              "  </thead>\n",
              "  <tbody>\n",
              "    <tr>\n",
              "      <th>0</th>\n",
              "      <td>air_00a91d42b08b08d9_2017-04-23</td>\n",
              "      <td>0</td>\n",
              "    </tr>\n",
              "    <tr>\n",
              "      <th>1</th>\n",
              "      <td>air_00a91d42b08b08d9_2017-04-24</td>\n",
              "      <td>0</td>\n",
              "    </tr>\n",
              "    <tr>\n",
              "      <th>2</th>\n",
              "      <td>air_00a91d42b08b08d9_2017-04-25</td>\n",
              "      <td>0</td>\n",
              "    </tr>\n",
              "    <tr>\n",
              "      <th>3</th>\n",
              "      <td>air_00a91d42b08b08d9_2017-04-26</td>\n",
              "      <td>0</td>\n",
              "    </tr>\n",
              "    <tr>\n",
              "      <th>4</th>\n",
              "      <td>air_00a91d42b08b08d9_2017-04-27</td>\n",
              "      <td>0</td>\n",
              "    </tr>\n",
              "  </tbody>\n",
              "</table>\n",
              "</div>"
            ],
            "text/plain": [
              "                                id  visitors\n",
              "0  air_00a91d42b08b08d9_2017-04-23         0\n",
              "1  air_00a91d42b08b08d9_2017-04-24         0\n",
              "2  air_00a91d42b08b08d9_2017-04-25         0\n",
              "3  air_00a91d42b08b08d9_2017-04-26         0\n",
              "4  air_00a91d42b08b08d9_2017-04-27         0"
            ]
          },
          "metadata": {
            "tags": []
          },
          "execution_count": 470
        }
      ]
    },
    {
      "cell_type": "markdown",
      "metadata": {
        "id": "SWwb4Xy9oLlK"
      },
      "source": [
        "##### 데이터 정리"
      ]
    },
    {
      "cell_type": "code",
      "metadata": {
        "colab": {
          "base_uri": "https://localhost:8080/"
        },
        "id": "HER_fXMboKFR",
        "outputId": "8ae85b37-4138-4002-debb-0451934dc20e"
      },
      "source": [
        "print('[----Data structure----]')\n",
        "print('Training data:\\t\\t',data['tra'].shape, '\\tunique store id: ',len(data['tra']['air_store_id'].unique()))\n",
        "print('Id data:\\t\\t',data['id'].shape)\n",
        "print('Air store data:\\t\\t',data['as'].shape,'\\tunique store id: ',data['as']['air_store_id'].unique().shape)\n",
        "print('Hpg store data:\\t\\t',data['hs'].shape,'\\tunique store id: ',data['hs']['hpg_store_id'].unique().shape)\n",
        "print('Air reserve data:\\t',data['ar'].shape,'\\tunique store id: ',data['ar']['air_store_id'].unique().shape)\n",
        "print('Hpg reserve data:\\t',data['hr'].shape,'\\tunique store id: ',data['hr']['hpg_store_id'].unique().shape)"
      ],
      "execution_count": null,
      "outputs": [
        {
          "output_type": "stream",
          "text": [
            "[----Data structure----]\n",
            "Training data:\t\t (252108, 3) \tunique store id:  829\n",
            "Id data:\t\t (150, 2)\n",
            "Air store data:\t\t (829, 5) \tunique store id:  (829,)\n",
            "Hpg store data:\t\t (4690, 5) \tunique store id:  (4690,)\n",
            "Air reserve data:\t (92378, 4) \tunique store id:  (314,)\n",
            "Hpg reserve data:\t (2000320, 4) \tunique store id:  (13325,)\n"
          ],
          "name": "stdout"
        }
      ]
    },
    {
      "cell_type": "markdown",
      "metadata": {
        "id": "XOnGhqT3_yty"
      },
      "source": [
        "# **전처리하기**"
      ]
    },
    {
      "cell_type": "markdown",
      "metadata": {
        "id": "cMEHl5IWHI-l"
      },
      "source": [
        "##### 이상치 제거 (실제 방문객 수 중 450명을 넘으면 제거)\n"
      ]
    },
    {
      "cell_type": "code",
      "metadata": {
        "id": "HJbeOb1cIttU"
      },
      "source": [
        "data['tra']= data['tra'][data['tra']['visitors']<450]"
      ],
      "execution_count": null,
      "outputs": []
    },
    {
      "cell_type": "code",
      "metadata": {
        "colab": {
          "base_uri": "https://localhost:8080/",
          "height": 80
        },
        "id": "jb-S_yUvJfQp",
        "outputId": "9d34d5e4-ab44-47de-ebaa-fc915380e855"
      },
      "source": [
        "data['tra'].loc[data['tra']['visitors']>400] # 제거완료"
      ],
      "execution_count": null,
      "outputs": [
        {
          "output_type": "execute_result",
          "data": {
            "text/html": [
              "<div>\n",
              "<style scoped>\n",
              "    .dataframe tbody tr th:only-of-type {\n",
              "        vertical-align: middle;\n",
              "    }\n",
              "\n",
              "    .dataframe tbody tr th {\n",
              "        vertical-align: top;\n",
              "    }\n",
              "\n",
              "    .dataframe thead th {\n",
              "        text-align: right;\n",
              "    }\n",
              "</style>\n",
              "<table border=\"1\" class=\"dataframe\">\n",
              "  <thead>\n",
              "    <tr style=\"text-align: right;\">\n",
              "      <th></th>\n",
              "      <th>air_store_id</th>\n",
              "      <th>visit_date</th>\n",
              "      <th>visitors</th>\n",
              "    </tr>\n",
              "  </thead>\n",
              "  <tbody>\n",
              "    <tr>\n",
              "      <th>167504</th>\n",
              "      <td>air_9828505fefc77d75</td>\n",
              "      <td>2016-11-19</td>\n",
              "      <td>409</td>\n",
              "    </tr>\n",
              "  </tbody>\n",
              "</table>\n",
              "</div>"
            ],
            "text/plain": [
              "                air_store_id  visit_date  visitors\n",
              "167504  air_9828505fefc77d75  2016-11-19       409"
            ]
          },
          "metadata": {
            "tags": []
          },
          "execution_count": 473
        }
      ]
    },
    {
      "cell_type": "markdown",
      "metadata": {
        "id": "nZsrdeLsBxUV"
      },
      "source": [
        "##### air와 hpg에 둘 다 있는 가게는 150개밖에 없다 (= store_id_relation데이터의 크기) \n",
        "##### 따라서 air와 겹치는 hpg의 데이터만 가져와서 사용하기로 정하였다."
      ]
    },
    {
      "cell_type": "code",
      "metadata": {
        "colab": {
          "base_uri": "https://localhost:8080/",
          "height": 203
        },
        "id": "6Wjfp4wAyPYc",
        "outputId": "0a8e0f5f-a5f7-405e-f7ab-608b2677208b"
      },
      "source": [
        "# hpg 예약정보에 id 파일에서  hpg_store_id와 일치하는 air_store_id 정보를 추가함\n",
        "data['hr'] = pd.merge(data['hr'], data['id'], how='inner', on=['hpg_store_id'])\n",
        "data['hr'].head()"
      ],
      "execution_count": null,
      "outputs": [
        {
          "output_type": "execute_result",
          "data": {
            "text/html": [
              "<div>\n",
              "<style scoped>\n",
              "    .dataframe tbody tr th:only-of-type {\n",
              "        vertical-align: middle;\n",
              "    }\n",
              "\n",
              "    .dataframe tbody tr th {\n",
              "        vertical-align: top;\n",
              "    }\n",
              "\n",
              "    .dataframe thead th {\n",
              "        text-align: right;\n",
              "    }\n",
              "</style>\n",
              "<table border=\"1\" class=\"dataframe\">\n",
              "  <thead>\n",
              "    <tr style=\"text-align: right;\">\n",
              "      <th></th>\n",
              "      <th>hpg_store_id</th>\n",
              "      <th>visit_datetime</th>\n",
              "      <th>reserve_datetime</th>\n",
              "      <th>reserve_visitors</th>\n",
              "      <th>air_store_id</th>\n",
              "    </tr>\n",
              "  </thead>\n",
              "  <tbody>\n",
              "    <tr>\n",
              "      <th>0</th>\n",
              "      <td>hpg_878cc70b1abc76f7</td>\n",
              "      <td>2016-01-01 19:00:00</td>\n",
              "      <td>2016-01-01 15:00:00</td>\n",
              "      <td>4</td>\n",
              "      <td>air_db80363d35f10926</td>\n",
              "    </tr>\n",
              "    <tr>\n",
              "      <th>1</th>\n",
              "      <td>hpg_878cc70b1abc76f7</td>\n",
              "      <td>2016-01-02 19:00:00</td>\n",
              "      <td>2016-01-02 14:00:00</td>\n",
              "      <td>2</td>\n",
              "      <td>air_db80363d35f10926</td>\n",
              "    </tr>\n",
              "    <tr>\n",
              "      <th>2</th>\n",
              "      <td>hpg_878cc70b1abc76f7</td>\n",
              "      <td>2016-01-03 18:00:00</td>\n",
              "      <td>2016-01-02 20:00:00</td>\n",
              "      <td>6</td>\n",
              "      <td>air_db80363d35f10926</td>\n",
              "    </tr>\n",
              "    <tr>\n",
              "      <th>3</th>\n",
              "      <td>hpg_878cc70b1abc76f7</td>\n",
              "      <td>2016-01-06 20:00:00</td>\n",
              "      <td>2016-01-04 22:00:00</td>\n",
              "      <td>3</td>\n",
              "      <td>air_db80363d35f10926</td>\n",
              "    </tr>\n",
              "    <tr>\n",
              "      <th>4</th>\n",
              "      <td>hpg_878cc70b1abc76f7</td>\n",
              "      <td>2016-01-11 18:00:00</td>\n",
              "      <td>2016-01-11 14:00:00</td>\n",
              "      <td>2</td>\n",
              "      <td>air_db80363d35f10926</td>\n",
              "    </tr>\n",
              "  </tbody>\n",
              "</table>\n",
              "</div>"
            ],
            "text/plain": [
              "           hpg_store_id  ...          air_store_id\n",
              "0  hpg_878cc70b1abc76f7  ...  air_db80363d35f10926\n",
              "1  hpg_878cc70b1abc76f7  ...  air_db80363d35f10926\n",
              "2  hpg_878cc70b1abc76f7  ...  air_db80363d35f10926\n",
              "3  hpg_878cc70b1abc76f7  ...  air_db80363d35f10926\n",
              "4  hpg_878cc70b1abc76f7  ...  air_db80363d35f10926\n",
              "\n",
              "[5 rows x 5 columns]"
            ]
          },
          "metadata": {
            "tags": []
          },
          "execution_count": 474
        }
      ]
    },
    {
      "cell_type": "markdown",
      "metadata": {
        "id": "JfTLL8IUswAc"
      },
      "source": [
        "##### air, hpg reservation 데이터\n",
        "* air_store_id 기준으로 보기\n",
        "* reserve_datetime_diff 컬럼 생성 : 예약을 진행한 날짜와 실제 방문할 날짜의 차이 => 며칠 전에 예약을 하는가?\n",
        "* visit_datetime(날짜 + 시간) 형태에서 visit_date(날짜) 형태로 바꿈 \n",
        "* 같은 날짜 다른 시간의 reserve_visitors 정보도 같은 날짜의 reserve_visitors로 합쳐짐.\n"
      ]
    },
    {
      "cell_type": "code",
      "metadata": {
        "colab": {
          "base_uri": "https://localhost:8080/"
        },
        "id": "CIFsD773g0KB",
        "outputId": "c8077c70-a712-412a-fc8f-0f5b8244def1"
      },
      "source": [
        "for df in ['ar', 'hr']:\n",
        "    data[df]['visit_datetime'] = pd.to_datetime(data[df]['visit_datetime']) # 데이터타입을 datatime으로 변경\n",
        "    data[df]['visit_datetime'] = data[df]['visit_datetime'].dt.date # YYYY-MM-DD(문자) 형식으로 바꿈\n",
        "    data[df]['reserve_datetime'] = pd.to_datetime(data[df]['reserve_datetime']) \n",
        "    data[df]['reserve_datetime'] = data[df]['reserve_datetime'].dt.date\n",
        "    data[df]['reserve_datetime_diff'] = data[df].apply(\n",
        "        lambda r: (r['visit_datetime'] - r['reserve_datetime']).days, axis=1) \n",
        "    data[df] = data[df].groupby(\n",
        "        ['air_store_id', 'visit_datetime'], as_index=False)[[\n",
        "            'reserve_datetime_diff', 'reserve_visitors'  \n",
        "        ]].sum().rename(columns={\n",
        "            'visit_datetime': 'visit_date'    # visit_datetime 에서 visit_date로 컬럼명 변경\n",
        "        })\n",
        "    print(data[df].head())"
      ],
      "execution_count": null,
      "outputs": [
        {
          "output_type": "stream",
          "text": [
            "           air_store_id  visit_date  reserve_datetime_diff  reserve_visitors\n",
            "0  air_00a91d42b08b08d9  2016-10-31                      0                 2\n",
            "1  air_00a91d42b08b08d9  2016-12-05                      4                 9\n",
            "2  air_00a91d42b08b08d9  2016-12-14                      6                18\n",
            "3  air_00a91d42b08b08d9  2016-12-17                      6                 2\n",
            "4  air_00a91d42b08b08d9  2016-12-20                      2                 4\n",
            "           air_store_id  visit_date  reserve_datetime_diff  reserve_visitors\n",
            "0  air_00a91d42b08b08d9  2016-01-14                      3                 2\n",
            "1  air_00a91d42b08b08d9  2016-01-15                      6                 4\n",
            "2  air_00a91d42b08b08d9  2016-01-16                      3                 2\n",
            "3  air_00a91d42b08b08d9  2016-01-22                      3                 2\n",
            "4  air_00a91d42b08b08d9  2016-01-29                      6                 5\n"
          ],
          "name": "stdout"
        }
      ]
    },
    {
      "cell_type": "markdown",
      "metadata": {
        "id": "MruX491fsm8X"
      },
      "source": [
        "##### tra : air 레스토랑 실제 방문날짜와 방문객수 전처리\n",
        "* visit_date 컬럼에서 파생변수 만들기\n",
        "* 날짜를 '년-월-일'의 형태로 변환한다.\n",
        "* 요일 인덱스값, 연도, 월  feature를 추가한다.\n"
      ]
    },
    {
      "cell_type": "code",
      "metadata": {
        "colab": {
          "base_uri": "https://localhost:8080/",
          "height": 203
        },
        "id": "065FD7z1tCl3",
        "outputId": "2ad82410-ee2a-4f60-8043-d1be31adb6d7"
      },
      "source": [
        "data['tra'].head()"
      ],
      "execution_count": null,
      "outputs": [
        {
          "output_type": "execute_result",
          "data": {
            "text/html": [
              "<div>\n",
              "<style scoped>\n",
              "    .dataframe tbody tr th:only-of-type {\n",
              "        vertical-align: middle;\n",
              "    }\n",
              "\n",
              "    .dataframe tbody tr th {\n",
              "        vertical-align: top;\n",
              "    }\n",
              "\n",
              "    .dataframe thead th {\n",
              "        text-align: right;\n",
              "    }\n",
              "</style>\n",
              "<table border=\"1\" class=\"dataframe\">\n",
              "  <thead>\n",
              "    <tr style=\"text-align: right;\">\n",
              "      <th></th>\n",
              "      <th>air_store_id</th>\n",
              "      <th>visit_date</th>\n",
              "      <th>visitors</th>\n",
              "    </tr>\n",
              "  </thead>\n",
              "  <tbody>\n",
              "    <tr>\n",
              "      <th>0</th>\n",
              "      <td>air_ba937bf13d40fb24</td>\n",
              "      <td>2016-01-13</td>\n",
              "      <td>25</td>\n",
              "    </tr>\n",
              "    <tr>\n",
              "      <th>1</th>\n",
              "      <td>air_ba937bf13d40fb24</td>\n",
              "      <td>2016-01-14</td>\n",
              "      <td>32</td>\n",
              "    </tr>\n",
              "    <tr>\n",
              "      <th>2</th>\n",
              "      <td>air_ba937bf13d40fb24</td>\n",
              "      <td>2016-01-15</td>\n",
              "      <td>29</td>\n",
              "    </tr>\n",
              "    <tr>\n",
              "      <th>3</th>\n",
              "      <td>air_ba937bf13d40fb24</td>\n",
              "      <td>2016-01-16</td>\n",
              "      <td>22</td>\n",
              "    </tr>\n",
              "    <tr>\n",
              "      <th>4</th>\n",
              "      <td>air_ba937bf13d40fb24</td>\n",
              "      <td>2016-01-18</td>\n",
              "      <td>6</td>\n",
              "    </tr>\n",
              "  </tbody>\n",
              "</table>\n",
              "</div>"
            ],
            "text/plain": [
              "           air_store_id  visit_date  visitors\n",
              "0  air_ba937bf13d40fb24  2016-01-13        25\n",
              "1  air_ba937bf13d40fb24  2016-01-14        32\n",
              "2  air_ba937bf13d40fb24  2016-01-15        29\n",
              "3  air_ba937bf13d40fb24  2016-01-16        22\n",
              "4  air_ba937bf13d40fb24  2016-01-18         6"
            ]
          },
          "metadata": {
            "tags": []
          },
          "execution_count": 476
        }
      ]
    },
    {
      "cell_type": "code",
      "metadata": {
        "colab": {
          "base_uri": "https://localhost:8080/",
          "height": 203
        },
        "id": "dGUErMOYg0A3",
        "outputId": "d49e3080-dd9f-4575-94c3-3e951dfeace5"
      },
      "source": [
        "data['tra']['visit_date'] = pd.to_datetime(data['tra']['visit_date']) # 날짜 데이터타입으로 변경\n",
        "data['tra']['dow'] = data['tra']['visit_date'].dt.dayofweek           # 요일 컬럼 생성(정수 0~6)\n",
        "data['tra']['year'] = data['tra']['visit_date'].dt.year               # 년도 컬럼 생성\n",
        "data['tra']['month'] = data['tra']['visit_date'].dt.month             # month 컬럼 생성\n",
        "data['tra']['visit_date'] = data['tra']['visit_date'].dt.date         # YYYY-MM-DD(문자) 형태로 변경\n",
        "data['tra'].head()"
      ],
      "execution_count": null,
      "outputs": [
        {
          "output_type": "execute_result",
          "data": {
            "text/html": [
              "<div>\n",
              "<style scoped>\n",
              "    .dataframe tbody tr th:only-of-type {\n",
              "        vertical-align: middle;\n",
              "    }\n",
              "\n",
              "    .dataframe tbody tr th {\n",
              "        vertical-align: top;\n",
              "    }\n",
              "\n",
              "    .dataframe thead th {\n",
              "        text-align: right;\n",
              "    }\n",
              "</style>\n",
              "<table border=\"1\" class=\"dataframe\">\n",
              "  <thead>\n",
              "    <tr style=\"text-align: right;\">\n",
              "      <th></th>\n",
              "      <th>air_store_id</th>\n",
              "      <th>visit_date</th>\n",
              "      <th>visitors</th>\n",
              "      <th>dow</th>\n",
              "      <th>year</th>\n",
              "      <th>month</th>\n",
              "    </tr>\n",
              "  </thead>\n",
              "  <tbody>\n",
              "    <tr>\n",
              "      <th>0</th>\n",
              "      <td>air_ba937bf13d40fb24</td>\n",
              "      <td>2016-01-13</td>\n",
              "      <td>25</td>\n",
              "      <td>2</td>\n",
              "      <td>2016</td>\n",
              "      <td>1</td>\n",
              "    </tr>\n",
              "    <tr>\n",
              "      <th>1</th>\n",
              "      <td>air_ba937bf13d40fb24</td>\n",
              "      <td>2016-01-14</td>\n",
              "      <td>32</td>\n",
              "      <td>3</td>\n",
              "      <td>2016</td>\n",
              "      <td>1</td>\n",
              "    </tr>\n",
              "    <tr>\n",
              "      <th>2</th>\n",
              "      <td>air_ba937bf13d40fb24</td>\n",
              "      <td>2016-01-15</td>\n",
              "      <td>29</td>\n",
              "      <td>4</td>\n",
              "      <td>2016</td>\n",
              "      <td>1</td>\n",
              "    </tr>\n",
              "    <tr>\n",
              "      <th>3</th>\n",
              "      <td>air_ba937bf13d40fb24</td>\n",
              "      <td>2016-01-16</td>\n",
              "      <td>22</td>\n",
              "      <td>5</td>\n",
              "      <td>2016</td>\n",
              "      <td>1</td>\n",
              "    </tr>\n",
              "    <tr>\n",
              "      <th>4</th>\n",
              "      <td>air_ba937bf13d40fb24</td>\n",
              "      <td>2016-01-18</td>\n",
              "      <td>6</td>\n",
              "      <td>0</td>\n",
              "      <td>2016</td>\n",
              "      <td>1</td>\n",
              "    </tr>\n",
              "  </tbody>\n",
              "</table>\n",
              "</div>"
            ],
            "text/plain": [
              "           air_store_id  visit_date  visitors  dow  year  month\n",
              "0  air_ba937bf13d40fb24  2016-01-13        25    2  2016      1\n",
              "1  air_ba937bf13d40fb24  2016-01-14        32    3  2016      1\n",
              "2  air_ba937bf13d40fb24  2016-01-15        29    4  2016      1\n",
              "3  air_ba937bf13d40fb24  2016-01-16        22    5  2016      1\n",
              "4  air_ba937bf13d40fb24  2016-01-18         6    0  2016      1"
            ]
          },
          "metadata": {
            "tags": []
          },
          "execution_count": 477
        }
      ]
    },
    {
      "cell_type": "markdown",
      "metadata": {
        "id": "NcAoiHCKuGbt"
      },
      "source": [
        "##### tes : submission 데이터 전처리 \n",
        "* id 컬럼 (air_store_id + visit_date) 로 분리하기\n",
        "> 데이터 예시: <br>\n",
        "'id'칼럼\n",
        "  - air_00a91d42b08b08d9_2017-04-23\t\n",
        "  - air_00a91d42b08b08d9_2017-04-24\n",
        "  - air_00a91d42b08b08d9_2017-04-25\n",
        "\n",
        "따라서 split('\\_')을 했을 때 인덱스2인 원소가 날짜에 해당한다.<br>\n",
        "👉 'visit_date'칼럼 생성\n",
        "\n",
        "<br>\n",
        "\n",
        "split('\\_')을 했을 때 인덱스0,1인 원소를 다시 '\\_'로 붙이면 air id가 된다.<br>\n",
        "👉 'air_store_id'칼럼 생성\n",
        "\n",
        "* visit_date에서 파생변수 만들기"
      ]
    },
    {
      "cell_type": "code",
      "metadata": {
        "colab": {
          "base_uri": "https://localhost:8080/",
          "height": 203
        },
        "id": "oUUJgqIsR7mI",
        "outputId": "270ee6bb-8b70-4454-ff82-b35ad9a51051"
      },
      "source": [
        "data['tes'].head()"
      ],
      "execution_count": null,
      "outputs": [
        {
          "output_type": "execute_result",
          "data": {
            "text/html": [
              "<div>\n",
              "<style scoped>\n",
              "    .dataframe tbody tr th:only-of-type {\n",
              "        vertical-align: middle;\n",
              "    }\n",
              "\n",
              "    .dataframe tbody tr th {\n",
              "        vertical-align: top;\n",
              "    }\n",
              "\n",
              "    .dataframe thead th {\n",
              "        text-align: right;\n",
              "    }\n",
              "</style>\n",
              "<table border=\"1\" class=\"dataframe\">\n",
              "  <thead>\n",
              "    <tr style=\"text-align: right;\">\n",
              "      <th></th>\n",
              "      <th>id</th>\n",
              "      <th>visitors</th>\n",
              "    </tr>\n",
              "  </thead>\n",
              "  <tbody>\n",
              "    <tr>\n",
              "      <th>0</th>\n",
              "      <td>air_00a91d42b08b08d9_2017-04-23</td>\n",
              "      <td>0</td>\n",
              "    </tr>\n",
              "    <tr>\n",
              "      <th>1</th>\n",
              "      <td>air_00a91d42b08b08d9_2017-04-24</td>\n",
              "      <td>0</td>\n",
              "    </tr>\n",
              "    <tr>\n",
              "      <th>2</th>\n",
              "      <td>air_00a91d42b08b08d9_2017-04-25</td>\n",
              "      <td>0</td>\n",
              "    </tr>\n",
              "    <tr>\n",
              "      <th>3</th>\n",
              "      <td>air_00a91d42b08b08d9_2017-04-26</td>\n",
              "      <td>0</td>\n",
              "    </tr>\n",
              "    <tr>\n",
              "      <th>4</th>\n",
              "      <td>air_00a91d42b08b08d9_2017-04-27</td>\n",
              "      <td>0</td>\n",
              "    </tr>\n",
              "  </tbody>\n",
              "</table>\n",
              "</div>"
            ],
            "text/plain": [
              "                                id  visitors\n",
              "0  air_00a91d42b08b08d9_2017-04-23         0\n",
              "1  air_00a91d42b08b08d9_2017-04-24         0\n",
              "2  air_00a91d42b08b08d9_2017-04-25         0\n",
              "3  air_00a91d42b08b08d9_2017-04-26         0\n",
              "4  air_00a91d42b08b08d9_2017-04-27         0"
            ]
          },
          "metadata": {
            "tags": []
          },
          "execution_count": 478
        }
      ]
    },
    {
      "cell_type": "code",
      "metadata": {
        "colab": {
          "base_uri": "https://localhost:8080/",
          "height": 203
        },
        "id": "mSdpk2_GuN2j",
        "outputId": "c42f520f-e0e9-468b-c87d-59335ef77a79"
      },
      "source": [
        "data['tes']['visit_date'] = data['tes']['id'].map(\n",
        "    lambda x: str(x).split('_')[2])                                   # visit_date 방문날짜 컬럼 만들기\n",
        "data['tes']['air_store_id'] = data['tes']['id'].map(\n",
        "    lambda x: '_'.join(x.split('_')[:2]))                             # id 컬럼 만들기\n",
        "data['tes']['visit_date'] = pd.to_datetime(data['tes']['visit_date']) # 날짜 데이터형식으로 변형\n",
        "data['tes']['dow'] = data['tes']['visit_date'].dt.dayofweek           # 요일 : 0~6\n",
        "data['tes']['year'] = data['tes']['visit_date'].dt.year\n",
        "data['tes']['month'] = data['tes']['visit_date'].dt.month\n",
        "data['tes']['visit_date'] = data['tes']['visit_date'].dt.date\n",
        "data['tes'].head()"
      ],
      "execution_count": null,
      "outputs": [
        {
          "output_type": "execute_result",
          "data": {
            "text/html": [
              "<div>\n",
              "<style scoped>\n",
              "    .dataframe tbody tr th:only-of-type {\n",
              "        vertical-align: middle;\n",
              "    }\n",
              "\n",
              "    .dataframe tbody tr th {\n",
              "        vertical-align: top;\n",
              "    }\n",
              "\n",
              "    .dataframe thead th {\n",
              "        text-align: right;\n",
              "    }\n",
              "</style>\n",
              "<table border=\"1\" class=\"dataframe\">\n",
              "  <thead>\n",
              "    <tr style=\"text-align: right;\">\n",
              "      <th></th>\n",
              "      <th>id</th>\n",
              "      <th>visitors</th>\n",
              "      <th>visit_date</th>\n",
              "      <th>air_store_id</th>\n",
              "      <th>dow</th>\n",
              "      <th>year</th>\n",
              "      <th>month</th>\n",
              "    </tr>\n",
              "  </thead>\n",
              "  <tbody>\n",
              "    <tr>\n",
              "      <th>0</th>\n",
              "      <td>air_00a91d42b08b08d9_2017-04-23</td>\n",
              "      <td>0</td>\n",
              "      <td>2017-04-23</td>\n",
              "      <td>air_00a91d42b08b08d9</td>\n",
              "      <td>6</td>\n",
              "      <td>2017</td>\n",
              "      <td>4</td>\n",
              "    </tr>\n",
              "    <tr>\n",
              "      <th>1</th>\n",
              "      <td>air_00a91d42b08b08d9_2017-04-24</td>\n",
              "      <td>0</td>\n",
              "      <td>2017-04-24</td>\n",
              "      <td>air_00a91d42b08b08d9</td>\n",
              "      <td>0</td>\n",
              "      <td>2017</td>\n",
              "      <td>4</td>\n",
              "    </tr>\n",
              "    <tr>\n",
              "      <th>2</th>\n",
              "      <td>air_00a91d42b08b08d9_2017-04-25</td>\n",
              "      <td>0</td>\n",
              "      <td>2017-04-25</td>\n",
              "      <td>air_00a91d42b08b08d9</td>\n",
              "      <td>1</td>\n",
              "      <td>2017</td>\n",
              "      <td>4</td>\n",
              "    </tr>\n",
              "    <tr>\n",
              "      <th>3</th>\n",
              "      <td>air_00a91d42b08b08d9_2017-04-26</td>\n",
              "      <td>0</td>\n",
              "      <td>2017-04-26</td>\n",
              "      <td>air_00a91d42b08b08d9</td>\n",
              "      <td>2</td>\n",
              "      <td>2017</td>\n",
              "      <td>4</td>\n",
              "    </tr>\n",
              "    <tr>\n",
              "      <th>4</th>\n",
              "      <td>air_00a91d42b08b08d9_2017-04-27</td>\n",
              "      <td>0</td>\n",
              "      <td>2017-04-27</td>\n",
              "      <td>air_00a91d42b08b08d9</td>\n",
              "      <td>3</td>\n",
              "      <td>2017</td>\n",
              "      <td>4</td>\n",
              "    </tr>\n",
              "  </tbody>\n",
              "</table>\n",
              "</div>"
            ],
            "text/plain": [
              "                                id  visitors  visit_date  ... dow  year  month\n",
              "0  air_00a91d42b08b08d9_2017-04-23         0  2017-04-23  ...   6  2017      4\n",
              "1  air_00a91d42b08b08d9_2017-04-24         0  2017-04-24  ...   0  2017      4\n",
              "2  air_00a91d42b08b08d9_2017-04-25         0  2017-04-25  ...   1  2017      4\n",
              "3  air_00a91d42b08b08d9_2017-04-26         0  2017-04-26  ...   2  2017      4\n",
              "4  air_00a91d42b08b08d9_2017-04-27         0  2017-04-27  ...   3  2017      4\n",
              "\n",
              "[5 rows x 7 columns]"
            ]
          },
          "metadata": {
            "tags": []
          },
          "execution_count": 479
        }
      ]
    },
    {
      "cell_type": "markdown",
      "metadata": {
        "id": "-KNfqtGqFepv"
      },
      "source": [
        "##### submission파일에서 air_store_id 유일한 값들만 찾기\n",
        "=> test데이터셋에 등장하는 가게는 총 821개이다"
      ]
    },
    {
      "cell_type": "code",
      "metadata": {
        "colab": {
          "base_uri": "https://localhost:8080/"
        },
        "id": "CmR-q-VOuiZE",
        "outputId": "4641e2b6-7802-4b86-bde1-401c93cae94a"
      },
      "source": [
        "unique_stores = data['tes']['air_store_id'].unique() \n",
        "len(unique_stores)"
      ],
      "execution_count": null,
      "outputs": [
        {
          "output_type": "execute_result",
          "data": {
            "text/plain": [
              "821"
            ]
          },
          "metadata": {
            "tags": []
          },
          "execution_count": 480
        }
      ]
    },
    {
      "cell_type": "markdown",
      "metadata": {
        "id": "fsvw2aMAv515"
      },
      "source": [
        "##### 'stores' 데이터프레임 생성 \n",
        "* submission에 있던 가게들('air_store_id')과 이 가게들이 각 요일마다 방문객 수가 어떤지를 보려고 만든 데이터프레임\n"
      ]
    },
    {
      "cell_type": "code",
      "metadata": {
        "id": "te2np8hyvBd3"
      },
      "source": [
        "stores = pd.concat(\n",
        "    [\n",
        "        pd.DataFrame({\n",
        "            'air_store_id': unique_stores, # submission의 air_store_id 유일값들\n",
        "            'dow': [i] * len(unique_stores)\n",
        "        }) for i in range(7) # 요일 0~6\n",
        "    ],\n",
        "    axis=0,\n",
        "    ignore_index=True).reset_index(drop=True)"
      ],
      "execution_count": null,
      "outputs": []
    },
    {
      "cell_type": "code",
      "metadata": {
        "colab": {
          "base_uri": "https://localhost:8080/"
        },
        "id": "0A1dtHodvBmn",
        "outputId": "01badd06-2739-45ab-f0a7-f319ee08677a"
      },
      "source": [
        "stores.info() # 총 5747개의 데이터 = 821개의 가게 * 요일 7개 (0~6)"
      ],
      "execution_count": null,
      "outputs": [
        {
          "output_type": "stream",
          "text": [
            "<class 'pandas.core.frame.DataFrame'>\n",
            "RangeIndex: 5747 entries, 0 to 5746\n",
            "Data columns (total 2 columns):\n",
            " #   Column        Non-Null Count  Dtype \n",
            "---  ------        --------------  ----- \n",
            " 0   air_store_id  5747 non-null   object\n",
            " 1   dow           5747 non-null   int64 \n",
            "dtypes: int64(1), object(1)\n",
            "memory usage: 89.9+ KB\n"
          ],
          "name": "stdout"
        }
      ]
    },
    {
      "cell_type": "code",
      "metadata": {
        "colab": {
          "base_uri": "https://localhost:8080/",
          "height": 203
        },
        "id": "rChx7YZ9vBr1",
        "outputId": "161f42fb-9655-497a-abce-cc0f23bec3cf"
      },
      "source": [
        "stores.head()"
      ],
      "execution_count": null,
      "outputs": [
        {
          "output_type": "execute_result",
          "data": {
            "text/html": [
              "<div>\n",
              "<style scoped>\n",
              "    .dataframe tbody tr th:only-of-type {\n",
              "        vertical-align: middle;\n",
              "    }\n",
              "\n",
              "    .dataframe tbody tr th {\n",
              "        vertical-align: top;\n",
              "    }\n",
              "\n",
              "    .dataframe thead th {\n",
              "        text-align: right;\n",
              "    }\n",
              "</style>\n",
              "<table border=\"1\" class=\"dataframe\">\n",
              "  <thead>\n",
              "    <tr style=\"text-align: right;\">\n",
              "      <th></th>\n",
              "      <th>air_store_id</th>\n",
              "      <th>dow</th>\n",
              "    </tr>\n",
              "  </thead>\n",
              "  <tbody>\n",
              "    <tr>\n",
              "      <th>0</th>\n",
              "      <td>air_00a91d42b08b08d9</td>\n",
              "      <td>0</td>\n",
              "    </tr>\n",
              "    <tr>\n",
              "      <th>1</th>\n",
              "      <td>air_0164b9927d20bcc3</td>\n",
              "      <td>0</td>\n",
              "    </tr>\n",
              "    <tr>\n",
              "      <th>2</th>\n",
              "      <td>air_0241aa3964b7f861</td>\n",
              "      <td>0</td>\n",
              "    </tr>\n",
              "    <tr>\n",
              "      <th>3</th>\n",
              "      <td>air_0328696196e46f18</td>\n",
              "      <td>0</td>\n",
              "    </tr>\n",
              "    <tr>\n",
              "      <th>4</th>\n",
              "      <td>air_034a3d5b40d5b1b1</td>\n",
              "      <td>0</td>\n",
              "    </tr>\n",
              "  </tbody>\n",
              "</table>\n",
              "</div>"
            ],
            "text/plain": [
              "           air_store_id  dow\n",
              "0  air_00a91d42b08b08d9    0\n",
              "1  air_0164b9927d20bcc3    0\n",
              "2  air_0241aa3964b7f861    0\n",
              "3  air_0328696196e46f18    0\n",
              "4  air_034a3d5b40d5b1b1    0"
            ]
          },
          "metadata": {
            "tags": []
          },
          "execution_count": 483
        }
      ]
    },
    {
      "cell_type": "markdown",
      "metadata": {
        "id": "wiIb2ohiwxuY"
      },
      "source": [
        "##### store 데이터프레임에 'air_store_id', 'dow' 기준으로 실제 방문자 수에 대하여 최솟값, 평균값, 중앙값, 최댓값, count를 계산하고 새로운 feature로 추가한다."
      ]
    },
    {
      "cell_type": "code",
      "metadata": {
        "id": "JyyWO5M0wGvB"
      },
      "source": [
        "# 최소 방문객 수\n",
        "tmp = data['tra'].groupby(\n",
        "    ['air_store_id', 'dow'],\n",
        "    as_index=False)['visitors'].min().rename(columns={\n",
        "        'visitors': 'min_visitors'\n",
        "    })\n",
        "stores = pd.merge(stores, tmp, how='left', on=['air_store_id', 'dow'])"
      ],
      "execution_count": null,
      "outputs": []
    },
    {
      "cell_type": "code",
      "metadata": {
        "id": "Y8F0kw4iwyYs"
      },
      "source": [
        "# 평균 방문객 수\n",
        "tmp = data['tra'].groupby(\n",
        "    ['air_store_id', 'dow'],\n",
        "    as_index=False)['visitors'].mean().rename(columns={\n",
        "        'visitors': 'mean_visitors'\n",
        "    })\n",
        "stores = pd.merge(stores, tmp, how='left', on=['air_store_id', 'dow'])"
      ],
      "execution_count": null,
      "outputs": []
    },
    {
      "cell_type": "code",
      "metadata": {
        "id": "Z8Nu12UbyPHG"
      },
      "source": [
        "# 중앙값 방문객 수\n",
        "tmp = data['tra'].groupby(\n",
        "    ['air_store_id', 'dow'],\n",
        "    as_index=False)['visitors'].median().rename(columns={\n",
        "        'visitors': 'median_visitors'\n",
        "    })\n",
        "stores = pd.merge(stores, tmp, how='left', on=['air_store_id', 'dow'])\n"
      ],
      "execution_count": null,
      "outputs": []
    },
    {
      "cell_type": "code",
      "metadata": {
        "id": "wLEnF13_yl4A"
      },
      "source": [
        "# 최대 방문객 수\n",
        "tmp = data['tra'].groupby(\n",
        "    ['air_store_id', 'dow'],\n",
        "    as_index=False)['visitors'].max().rename(columns={\n",
        "        'visitors': 'max_visitors'\n",
        "    })\n",
        "stores = pd.merge(stores, tmp, how='left', on=['air_store_id', 'dow'])"
      ],
      "execution_count": null,
      "outputs": []
    },
    {
      "cell_type": "code",
      "metadata": {
        "colab": {
          "base_uri": "https://localhost:8080/",
          "height": 203
        },
        "id": "7FFMIOnFzZFb",
        "outputId": "206a8ac9-0c37-48eb-c0c6-3aafddc5c9fa"
      },
      "source": [
        "# 'air_store_id', 'dow' 기준으로 몇번 방문했나? \n",
        "# 예) a라는 레스토랑에 토요일에 방문한 데이터가 몇개인가?\n",
        "tmp = data['tra'].groupby(\n",
        "    ['air_store_id', 'dow'],\n",
        "    as_index=False)['visitors'].count().rename(columns={\n",
        "        'visitors': 'count_observations'\n",
        "    })\n",
        "stores = pd.merge(stores, tmp, how='left', on=['air_store_id', 'dow'])\n",
        "stores.head()"
      ],
      "execution_count": null,
      "outputs": [
        {
          "output_type": "execute_result",
          "data": {
            "text/html": [
              "<div>\n",
              "<style scoped>\n",
              "    .dataframe tbody tr th:only-of-type {\n",
              "        vertical-align: middle;\n",
              "    }\n",
              "\n",
              "    .dataframe tbody tr th {\n",
              "        vertical-align: top;\n",
              "    }\n",
              "\n",
              "    .dataframe thead th {\n",
              "        text-align: right;\n",
              "    }\n",
              "</style>\n",
              "<table border=\"1\" class=\"dataframe\">\n",
              "  <thead>\n",
              "    <tr style=\"text-align: right;\">\n",
              "      <th></th>\n",
              "      <th>air_store_id</th>\n",
              "      <th>dow</th>\n",
              "      <th>min_visitors</th>\n",
              "      <th>mean_visitors</th>\n",
              "      <th>median_visitors</th>\n",
              "      <th>max_visitors</th>\n",
              "      <th>count_observations</th>\n",
              "    </tr>\n",
              "  </thead>\n",
              "  <tbody>\n",
              "    <tr>\n",
              "      <th>0</th>\n",
              "      <td>air_00a91d42b08b08d9</td>\n",
              "      <td>0</td>\n",
              "      <td>1.0</td>\n",
              "      <td>22.457143</td>\n",
              "      <td>19.0</td>\n",
              "      <td>47.0</td>\n",
              "      <td>35.0</td>\n",
              "    </tr>\n",
              "    <tr>\n",
              "      <th>1</th>\n",
              "      <td>air_0164b9927d20bcc3</td>\n",
              "      <td>0</td>\n",
              "      <td>2.0</td>\n",
              "      <td>7.500000</td>\n",
              "      <td>6.0</td>\n",
              "      <td>19.0</td>\n",
              "      <td>20.0</td>\n",
              "    </tr>\n",
              "    <tr>\n",
              "      <th>2</th>\n",
              "      <td>air_0241aa3964b7f861</td>\n",
              "      <td>0</td>\n",
              "      <td>2.0</td>\n",
              "      <td>8.920635</td>\n",
              "      <td>8.0</td>\n",
              "      <td>23.0</td>\n",
              "      <td>63.0</td>\n",
              "    </tr>\n",
              "    <tr>\n",
              "      <th>3</th>\n",
              "      <td>air_0328696196e46f18</td>\n",
              "      <td>0</td>\n",
              "      <td>2.0</td>\n",
              "      <td>6.416667</td>\n",
              "      <td>4.0</td>\n",
              "      <td>27.0</td>\n",
              "      <td>12.0</td>\n",
              "    </tr>\n",
              "    <tr>\n",
              "      <th>4</th>\n",
              "      <td>air_034a3d5b40d5b1b1</td>\n",
              "      <td>0</td>\n",
              "      <td>1.0</td>\n",
              "      <td>11.864865</td>\n",
              "      <td>10.0</td>\n",
              "      <td>66.0</td>\n",
              "      <td>37.0</td>\n",
              "    </tr>\n",
              "  </tbody>\n",
              "</table>\n",
              "</div>"
            ],
            "text/plain": [
              "           air_store_id  dow  ...  max_visitors  count_observations\n",
              "0  air_00a91d42b08b08d9    0  ...          47.0                35.0\n",
              "1  air_0164b9927d20bcc3    0  ...          19.0                20.0\n",
              "2  air_0241aa3964b7f861    0  ...          23.0                63.0\n",
              "3  air_0328696196e46f18    0  ...          27.0                12.0\n",
              "4  air_034a3d5b40d5b1b1    0  ...          66.0                37.0\n",
              "\n",
              "[5 rows x 7 columns]"
            ]
          },
          "metadata": {
            "tags": []
          },
          "execution_count": 488
        }
      ]
    },
    {
      "cell_type": "code",
      "metadata": {
        "colab": {
          "base_uri": "https://localhost:8080/"
        },
        "id": "dFCWlZHFzVoJ",
        "outputId": "b7c44b6d-bea5-4033-8f33-f5b6883b36e1"
      },
      "source": [
        "#  58개의 null 값 존재 => 실제 방문 내역에 (특정 가게,특정요일) 조합이 58개가 없는 것 같다.\n",
        "stores.isnull().sum()"
      ],
      "execution_count": null,
      "outputs": [
        {
          "output_type": "execute_result",
          "data": {
            "text/plain": [
              "air_store_id           0\n",
              "dow                    0\n",
              "min_visitors          58\n",
              "mean_visitors         58\n",
              "median_visitors       58\n",
              "max_visitors          58\n",
              "count_observations    58\n",
              "dtype: int64"
            ]
          },
          "metadata": {
            "tags": []
          },
          "execution_count": 489
        }
      ]
    },
    {
      "cell_type": "markdown",
      "metadata": {
        "id": "bBn3bnvH2XPH"
      },
      "source": [
        "#####  store 데이터 프레임의 air_store_id와 일치하는 가게 정보(레스토랑 종류, 위치정보)만 가져와서 컬럼 추가 (hpg_store_info는 활용하지 않음)"
      ]
    },
    {
      "cell_type": "code",
      "metadata": {
        "colab": {
          "base_uri": "https://localhost:8080/",
          "height": 374
        },
        "id": "rtcrh5LPzmTi",
        "outputId": "a7032430-4719-4d32-da7b-8d415c6eac5f"
      },
      "source": [
        "stores = pd.merge(stores, data['as'], how='left', on=['air_store_id']) \n",
        "stores.head()"
      ],
      "execution_count": null,
      "outputs": [
        {
          "output_type": "execute_result",
          "data": {
            "text/html": [
              "<div>\n",
              "<style scoped>\n",
              "    .dataframe tbody tr th:only-of-type {\n",
              "        vertical-align: middle;\n",
              "    }\n",
              "\n",
              "    .dataframe tbody tr th {\n",
              "        vertical-align: top;\n",
              "    }\n",
              "\n",
              "    .dataframe thead th {\n",
              "        text-align: right;\n",
              "    }\n",
              "</style>\n",
              "<table border=\"1\" class=\"dataframe\">\n",
              "  <thead>\n",
              "    <tr style=\"text-align: right;\">\n",
              "      <th></th>\n",
              "      <th>air_store_id</th>\n",
              "      <th>dow</th>\n",
              "      <th>min_visitors</th>\n",
              "      <th>mean_visitors</th>\n",
              "      <th>median_visitors</th>\n",
              "      <th>max_visitors</th>\n",
              "      <th>count_observations</th>\n",
              "      <th>air_genre_name</th>\n",
              "      <th>air_area_name</th>\n",
              "      <th>latitude</th>\n",
              "      <th>longitude</th>\n",
              "    </tr>\n",
              "  </thead>\n",
              "  <tbody>\n",
              "    <tr>\n",
              "      <th>0</th>\n",
              "      <td>air_00a91d42b08b08d9</td>\n",
              "      <td>0</td>\n",
              "      <td>1.0</td>\n",
              "      <td>22.457143</td>\n",
              "      <td>19.0</td>\n",
              "      <td>47.0</td>\n",
              "      <td>35.0</td>\n",
              "      <td>Italian/French</td>\n",
              "      <td>Tōkyō-to Chiyoda-ku Kudanminami</td>\n",
              "      <td>35.694003</td>\n",
              "      <td>139.753595</td>\n",
              "    </tr>\n",
              "    <tr>\n",
              "      <th>1</th>\n",
              "      <td>air_0164b9927d20bcc3</td>\n",
              "      <td>0</td>\n",
              "      <td>2.0</td>\n",
              "      <td>7.500000</td>\n",
              "      <td>6.0</td>\n",
              "      <td>19.0</td>\n",
              "      <td>20.0</td>\n",
              "      <td>Italian/French</td>\n",
              "      <td>Tōkyō-to Minato-ku Shibakōen</td>\n",
              "      <td>35.658068</td>\n",
              "      <td>139.751599</td>\n",
              "    </tr>\n",
              "    <tr>\n",
              "      <th>2</th>\n",
              "      <td>air_0241aa3964b7f861</td>\n",
              "      <td>0</td>\n",
              "      <td>2.0</td>\n",
              "      <td>8.920635</td>\n",
              "      <td>8.0</td>\n",
              "      <td>23.0</td>\n",
              "      <td>63.0</td>\n",
              "      <td>Izakaya</td>\n",
              "      <td>Tōkyō-to Taitō-ku Higashiueno</td>\n",
              "      <td>35.712607</td>\n",
              "      <td>139.779996</td>\n",
              "    </tr>\n",
              "    <tr>\n",
              "      <th>3</th>\n",
              "      <td>air_0328696196e46f18</td>\n",
              "      <td>0</td>\n",
              "      <td>2.0</td>\n",
              "      <td>6.416667</td>\n",
              "      <td>4.0</td>\n",
              "      <td>27.0</td>\n",
              "      <td>12.0</td>\n",
              "      <td>Dining bar</td>\n",
              "      <td>Ōsaka-fu Ōsaka-shi Nakanochō</td>\n",
              "      <td>34.701279</td>\n",
              "      <td>135.528090</td>\n",
              "    </tr>\n",
              "    <tr>\n",
              "      <th>4</th>\n",
              "      <td>air_034a3d5b40d5b1b1</td>\n",
              "      <td>0</td>\n",
              "      <td>1.0</td>\n",
              "      <td>11.864865</td>\n",
              "      <td>10.0</td>\n",
              "      <td>66.0</td>\n",
              "      <td>37.0</td>\n",
              "      <td>Cafe/Sweets</td>\n",
              "      <td>Ōsaka-fu Ōsaka-shi Ōhiraki</td>\n",
              "      <td>34.692337</td>\n",
              "      <td>135.472229</td>\n",
              "    </tr>\n",
              "  </tbody>\n",
              "</table>\n",
              "</div>"
            ],
            "text/plain": [
              "           air_store_id  dow  ...   latitude   longitude\n",
              "0  air_00a91d42b08b08d9    0  ...  35.694003  139.753595\n",
              "1  air_0164b9927d20bcc3    0  ...  35.658068  139.751599\n",
              "2  air_0241aa3964b7f861    0  ...  35.712607  139.779996\n",
              "3  air_0328696196e46f18    0  ...  34.701279  135.528090\n",
              "4  air_034a3d5b40d5b1b1    0  ...  34.692337  135.472229\n",
              "\n",
              "[5 rows x 11 columns]"
            ]
          },
          "metadata": {
            "tags": []
          },
          "execution_count": 490
        }
      ]
    },
    {
      "cell_type": "markdown",
      "metadata": {
        "id": "_lpRNgec3jvJ"
      },
      "source": [
        "##### air_genre_name,\tair_area_name 라벨인코딩하기"
      ]
    },
    {
      "cell_type": "code",
      "metadata": {
        "id": "vmK-i1ER2GG5"
      },
      "source": [
        "lbl = preprocessing.LabelEncoder() # 라벨인코더 "
      ],
      "execution_count": null,
      "outputs": []
    },
    {
      "cell_type": "code",
      "metadata": {
        "colab": {
          "base_uri": "https://localhost:8080/",
          "height": 223
        },
        "id": "kgvZuDj23JkO",
        "outputId": "137b2fbf-2f20-45b0-c446-6a494ed583f8"
      },
      "source": [
        "stores['air_genre_name'] = lbl.fit_transform(stores['air_genre_name']) # 레스토랑 종류를 정수로 변환하여 저장한다.\n",
        "stores['air_area_name'] = lbl.fit_transform(stores['air_area_name'])   # 지역 이름을 정수로 변환하여 저장한다.\n",
        "stores.head()"
      ],
      "execution_count": null,
      "outputs": [
        {
          "output_type": "execute_result",
          "data": {
            "text/html": [
              "<div>\n",
              "<style scoped>\n",
              "    .dataframe tbody tr th:only-of-type {\n",
              "        vertical-align: middle;\n",
              "    }\n",
              "\n",
              "    .dataframe tbody tr th {\n",
              "        vertical-align: top;\n",
              "    }\n",
              "\n",
              "    .dataframe thead th {\n",
              "        text-align: right;\n",
              "    }\n",
              "</style>\n",
              "<table border=\"1\" class=\"dataframe\">\n",
              "  <thead>\n",
              "    <tr style=\"text-align: right;\">\n",
              "      <th></th>\n",
              "      <th>air_store_id</th>\n",
              "      <th>dow</th>\n",
              "      <th>min_visitors</th>\n",
              "      <th>mean_visitors</th>\n",
              "      <th>median_visitors</th>\n",
              "      <th>max_visitors</th>\n",
              "      <th>count_observations</th>\n",
              "      <th>air_genre_name</th>\n",
              "      <th>air_area_name</th>\n",
              "      <th>latitude</th>\n",
              "      <th>longitude</th>\n",
              "    </tr>\n",
              "  </thead>\n",
              "  <tbody>\n",
              "    <tr>\n",
              "      <th>0</th>\n",
              "      <td>air_00a91d42b08b08d9</td>\n",
              "      <td>0</td>\n",
              "      <td>1.0</td>\n",
              "      <td>22.457143</td>\n",
              "      <td>19.0</td>\n",
              "      <td>47.0</td>\n",
              "      <td>35.0</td>\n",
              "      <td>6</td>\n",
              "      <td>44</td>\n",
              "      <td>35.694003</td>\n",
              "      <td>139.753595</td>\n",
              "    </tr>\n",
              "    <tr>\n",
              "      <th>1</th>\n",
              "      <td>air_0164b9927d20bcc3</td>\n",
              "      <td>0</td>\n",
              "      <td>2.0</td>\n",
              "      <td>7.500000</td>\n",
              "      <td>6.0</td>\n",
              "      <td>19.0</td>\n",
              "      <td>20.0</td>\n",
              "      <td>6</td>\n",
              "      <td>62</td>\n",
              "      <td>35.658068</td>\n",
              "      <td>139.751599</td>\n",
              "    </tr>\n",
              "    <tr>\n",
              "      <th>2</th>\n",
              "      <td>air_0241aa3964b7f861</td>\n",
              "      <td>0</td>\n",
              "      <td>2.0</td>\n",
              "      <td>8.920635</td>\n",
              "      <td>8.0</td>\n",
              "      <td>23.0</td>\n",
              "      <td>63.0</td>\n",
              "      <td>7</td>\n",
              "      <td>82</td>\n",
              "      <td>35.712607</td>\n",
              "      <td>139.779996</td>\n",
              "    </tr>\n",
              "    <tr>\n",
              "      <th>3</th>\n",
              "      <td>air_0328696196e46f18</td>\n",
              "      <td>0</td>\n",
              "      <td>2.0</td>\n",
              "      <td>6.416667</td>\n",
              "      <td>4.0</td>\n",
              "      <td>27.0</td>\n",
              "      <td>12.0</td>\n",
              "      <td>4</td>\n",
              "      <td>98</td>\n",
              "      <td>34.701279</td>\n",
              "      <td>135.528090</td>\n",
              "    </tr>\n",
              "    <tr>\n",
              "      <th>4</th>\n",
              "      <td>air_034a3d5b40d5b1b1</td>\n",
              "      <td>0</td>\n",
              "      <td>1.0</td>\n",
              "      <td>11.864865</td>\n",
              "      <td>10.0</td>\n",
              "      <td>66.0</td>\n",
              "      <td>37.0</td>\n",
              "      <td>2</td>\n",
              "      <td>102</td>\n",
              "      <td>34.692337</td>\n",
              "      <td>135.472229</td>\n",
              "    </tr>\n",
              "  </tbody>\n",
              "</table>\n",
              "</div>"
            ],
            "text/plain": [
              "           air_store_id  dow  ...   latitude   longitude\n",
              "0  air_00a91d42b08b08d9    0  ...  35.694003  139.753595\n",
              "1  air_0164b9927d20bcc3    0  ...  35.658068  139.751599\n",
              "2  air_0241aa3964b7f861    0  ...  35.712607  139.779996\n",
              "3  air_0328696196e46f18    0  ...  34.701279  135.528090\n",
              "4  air_034a3d5b40d5b1b1    0  ...  34.692337  135.472229\n",
              "\n",
              "[5 rows x 11 columns]"
            ]
          },
          "metadata": {
            "tags": []
          },
          "execution_count": 492
        }
      ]
    },
    {
      "cell_type": "markdown",
      "metadata": {
        "id": "8tPVgOhE35Kf"
      },
      "source": [
        "##### hol 전처리 : date_info 데이터에서 날짜, 요일을 이전과정과 같이 처리한다.\n",
        "* 컬럼명 변경된 상태 'calendar_date'->'visit_date'\n",
        "* 날짜 => 연,월,일만 저장\n",
        "* 요일 라벨인코딩하기 (정수 0~6 으로 변환)"
      ]
    },
    {
      "cell_type": "code",
      "metadata": {
        "colab": {
          "base_uri": "https://localhost:8080/",
          "height": 203
        },
        "id": "3I8Q09Hn4S-9",
        "outputId": "2c97942a-29d1-4f66-af8b-7c30531d0309"
      },
      "source": [
        "data['hol'].head()"
      ],
      "execution_count": null,
      "outputs": [
        {
          "output_type": "execute_result",
          "data": {
            "text/html": [
              "<div>\n",
              "<style scoped>\n",
              "    .dataframe tbody tr th:only-of-type {\n",
              "        vertical-align: middle;\n",
              "    }\n",
              "\n",
              "    .dataframe tbody tr th {\n",
              "        vertical-align: top;\n",
              "    }\n",
              "\n",
              "    .dataframe thead th {\n",
              "        text-align: right;\n",
              "    }\n",
              "</style>\n",
              "<table border=\"1\" class=\"dataframe\">\n",
              "  <thead>\n",
              "    <tr style=\"text-align: right;\">\n",
              "      <th></th>\n",
              "      <th>visit_date</th>\n",
              "      <th>day_of_week</th>\n",
              "      <th>holiday_flg</th>\n",
              "    </tr>\n",
              "  </thead>\n",
              "  <tbody>\n",
              "    <tr>\n",
              "      <th>0</th>\n",
              "      <td>2016-01-01</td>\n",
              "      <td>Friday</td>\n",
              "      <td>1</td>\n",
              "    </tr>\n",
              "    <tr>\n",
              "      <th>1</th>\n",
              "      <td>2016-01-02</td>\n",
              "      <td>Saturday</td>\n",
              "      <td>1</td>\n",
              "    </tr>\n",
              "    <tr>\n",
              "      <th>2</th>\n",
              "      <td>2016-01-03</td>\n",
              "      <td>Sunday</td>\n",
              "      <td>1</td>\n",
              "    </tr>\n",
              "    <tr>\n",
              "      <th>3</th>\n",
              "      <td>2016-01-04</td>\n",
              "      <td>Monday</td>\n",
              "      <td>0</td>\n",
              "    </tr>\n",
              "    <tr>\n",
              "      <th>4</th>\n",
              "      <td>2016-01-05</td>\n",
              "      <td>Tuesday</td>\n",
              "      <td>0</td>\n",
              "    </tr>\n",
              "  </tbody>\n",
              "</table>\n",
              "</div>"
            ],
            "text/plain": [
              "   visit_date day_of_week  holiday_flg\n",
              "0  2016-01-01      Friday            1\n",
              "1  2016-01-02    Saturday            1\n",
              "2  2016-01-03      Sunday            1\n",
              "3  2016-01-04      Monday            0\n",
              "4  2016-01-05     Tuesday            0"
            ]
          },
          "metadata": {
            "tags": []
          },
          "execution_count": 493
        }
      ]
    },
    {
      "cell_type": "code",
      "metadata": {
        "colab": {
          "base_uri": "https://localhost:8080/",
          "height": 203
        },
        "id": "E1mg1ahp3Ja_",
        "outputId": "4bc75928-a8c3-4555-9b3e-cc9716c89c78"
      },
      "source": [
        "data['hol']['visit_date'] = pd.to_datetime(data['hol']['visit_date'])      # 날짜 데이터 타입으로 변경\n",
        "data['hol']['day_of_week'] = lbl.fit_transform(data['hol']['day_of_week']) # 요일 : 문자 -> 숫자(0~6)\n",
        "data['hol']['visit_date'] = data['hol']['visit_date'].dt.date\n",
        "data['hol'].head()\n"
      ],
      "execution_count": null,
      "outputs": [
        {
          "output_type": "execute_result",
          "data": {
            "text/html": [
              "<div>\n",
              "<style scoped>\n",
              "    .dataframe tbody tr th:only-of-type {\n",
              "        vertical-align: middle;\n",
              "    }\n",
              "\n",
              "    .dataframe tbody tr th {\n",
              "        vertical-align: top;\n",
              "    }\n",
              "\n",
              "    .dataframe thead th {\n",
              "        text-align: right;\n",
              "    }\n",
              "</style>\n",
              "<table border=\"1\" class=\"dataframe\">\n",
              "  <thead>\n",
              "    <tr style=\"text-align: right;\">\n",
              "      <th></th>\n",
              "      <th>visit_date</th>\n",
              "      <th>day_of_week</th>\n",
              "      <th>holiday_flg</th>\n",
              "    </tr>\n",
              "  </thead>\n",
              "  <tbody>\n",
              "    <tr>\n",
              "      <th>0</th>\n",
              "      <td>2016-01-01</td>\n",
              "      <td>0</td>\n",
              "      <td>1</td>\n",
              "    </tr>\n",
              "    <tr>\n",
              "      <th>1</th>\n",
              "      <td>2016-01-02</td>\n",
              "      <td>2</td>\n",
              "      <td>1</td>\n",
              "    </tr>\n",
              "    <tr>\n",
              "      <th>2</th>\n",
              "      <td>2016-01-03</td>\n",
              "      <td>3</td>\n",
              "      <td>1</td>\n",
              "    </tr>\n",
              "    <tr>\n",
              "      <th>3</th>\n",
              "      <td>2016-01-04</td>\n",
              "      <td>1</td>\n",
              "      <td>0</td>\n",
              "    </tr>\n",
              "    <tr>\n",
              "      <th>4</th>\n",
              "      <td>2016-01-05</td>\n",
              "      <td>5</td>\n",
              "      <td>0</td>\n",
              "    </tr>\n",
              "  </tbody>\n",
              "</table>\n",
              "</div>"
            ],
            "text/plain": [
              "   visit_date  day_of_week  holiday_flg\n",
              "0  2016-01-01            0            1\n",
              "1  2016-01-02            2            1\n",
              "2  2016-01-03            3            1\n",
              "3  2016-01-04            1            0\n",
              "4  2016-01-05            5            0"
            ]
          },
          "metadata": {
            "tags": []
          },
          "execution_count": 494
        }
      ]
    },
    {
      "cell_type": "markdown",
      "metadata": {
        "id": "RqJPA1SA41gk"
      },
      "source": [
        "# **데이터 합치기** => train, test set "
      ]
    },
    {
      "cell_type": "code",
      "metadata": {
        "colab": {
          "base_uri": "https://localhost:8080/",
          "height": 110
        },
        "id": "F2GAUnfw3JSE",
        "outputId": "2cd6e051-aa00-4cca-e26e-fd6db82a11e2"
      },
      "source": [
        "data['tra'].head(2)"
      ],
      "execution_count": null,
      "outputs": [
        {
          "output_type": "execute_result",
          "data": {
            "text/html": [
              "<div>\n",
              "<style scoped>\n",
              "    .dataframe tbody tr th:only-of-type {\n",
              "        vertical-align: middle;\n",
              "    }\n",
              "\n",
              "    .dataframe tbody tr th {\n",
              "        vertical-align: top;\n",
              "    }\n",
              "\n",
              "    .dataframe thead th {\n",
              "        text-align: right;\n",
              "    }\n",
              "</style>\n",
              "<table border=\"1\" class=\"dataframe\">\n",
              "  <thead>\n",
              "    <tr style=\"text-align: right;\">\n",
              "      <th></th>\n",
              "      <th>air_store_id</th>\n",
              "      <th>visit_date</th>\n",
              "      <th>visitors</th>\n",
              "      <th>dow</th>\n",
              "      <th>year</th>\n",
              "      <th>month</th>\n",
              "    </tr>\n",
              "  </thead>\n",
              "  <tbody>\n",
              "    <tr>\n",
              "      <th>0</th>\n",
              "      <td>air_ba937bf13d40fb24</td>\n",
              "      <td>2016-01-13</td>\n",
              "      <td>25</td>\n",
              "      <td>2</td>\n",
              "      <td>2016</td>\n",
              "      <td>1</td>\n",
              "    </tr>\n",
              "    <tr>\n",
              "      <th>1</th>\n",
              "      <td>air_ba937bf13d40fb24</td>\n",
              "      <td>2016-01-14</td>\n",
              "      <td>32</td>\n",
              "      <td>3</td>\n",
              "      <td>2016</td>\n",
              "      <td>1</td>\n",
              "    </tr>\n",
              "  </tbody>\n",
              "</table>\n",
              "</div>"
            ],
            "text/plain": [
              "           air_store_id  visit_date  visitors  dow  year  month\n",
              "0  air_ba937bf13d40fb24  2016-01-13        25    2  2016      1\n",
              "1  air_ba937bf13d40fb24  2016-01-14        32    3  2016      1"
            ]
          },
          "metadata": {
            "tags": []
          },
          "execution_count": 495
        }
      ]
    },
    {
      "cell_type": "code",
      "metadata": {
        "colab": {
          "base_uri": "https://localhost:8080/",
          "height": 110
        },
        "id": "IiYsQMTz3JOR",
        "outputId": "384389c2-5553-4b7f-8368-ddab19e6bc30"
      },
      "source": [
        "data['hol'].head(2)"
      ],
      "execution_count": null,
      "outputs": [
        {
          "output_type": "execute_result",
          "data": {
            "text/html": [
              "<div>\n",
              "<style scoped>\n",
              "    .dataframe tbody tr th:only-of-type {\n",
              "        vertical-align: middle;\n",
              "    }\n",
              "\n",
              "    .dataframe tbody tr th {\n",
              "        vertical-align: top;\n",
              "    }\n",
              "\n",
              "    .dataframe thead th {\n",
              "        text-align: right;\n",
              "    }\n",
              "</style>\n",
              "<table border=\"1\" class=\"dataframe\">\n",
              "  <thead>\n",
              "    <tr style=\"text-align: right;\">\n",
              "      <th></th>\n",
              "      <th>visit_date</th>\n",
              "      <th>day_of_week</th>\n",
              "      <th>holiday_flg</th>\n",
              "    </tr>\n",
              "  </thead>\n",
              "  <tbody>\n",
              "    <tr>\n",
              "      <th>0</th>\n",
              "      <td>2016-01-01</td>\n",
              "      <td>0</td>\n",
              "      <td>1</td>\n",
              "    </tr>\n",
              "    <tr>\n",
              "      <th>1</th>\n",
              "      <td>2016-01-02</td>\n",
              "      <td>2</td>\n",
              "      <td>1</td>\n",
              "    </tr>\n",
              "  </tbody>\n",
              "</table>\n",
              "</div>"
            ],
            "text/plain": [
              "   visit_date  day_of_week  holiday_flg\n",
              "0  2016-01-01            0            1\n",
              "1  2016-01-02            2            1"
            ]
          },
          "metadata": {
            "tags": []
          },
          "execution_count": 496
        }
      ]
    },
    {
      "cell_type": "code",
      "metadata": {
        "colab": {
          "base_uri": "https://localhost:8080/",
          "height": 203
        },
        "id": "dNj7SB1s4_bw",
        "outputId": "b3f1c088-ab17-4c8b-8f22-03a38a50d480"
      },
      "source": [
        "# 위의 두 데이터프레임을 visit_date 기준으로 합치기\n",
        "train = pd.merge(data['tra'], data['hol'], how='left', on=['visit_date']) \n",
        "train.head()"
      ],
      "execution_count": null,
      "outputs": [
        {
          "output_type": "execute_result",
          "data": {
            "text/html": [
              "<div>\n",
              "<style scoped>\n",
              "    .dataframe tbody tr th:only-of-type {\n",
              "        vertical-align: middle;\n",
              "    }\n",
              "\n",
              "    .dataframe tbody tr th {\n",
              "        vertical-align: top;\n",
              "    }\n",
              "\n",
              "    .dataframe thead th {\n",
              "        text-align: right;\n",
              "    }\n",
              "</style>\n",
              "<table border=\"1\" class=\"dataframe\">\n",
              "  <thead>\n",
              "    <tr style=\"text-align: right;\">\n",
              "      <th></th>\n",
              "      <th>air_store_id</th>\n",
              "      <th>visit_date</th>\n",
              "      <th>visitors</th>\n",
              "      <th>dow</th>\n",
              "      <th>year</th>\n",
              "      <th>month</th>\n",
              "      <th>day_of_week</th>\n",
              "      <th>holiday_flg</th>\n",
              "    </tr>\n",
              "  </thead>\n",
              "  <tbody>\n",
              "    <tr>\n",
              "      <th>0</th>\n",
              "      <td>air_ba937bf13d40fb24</td>\n",
              "      <td>2016-01-13</td>\n",
              "      <td>25</td>\n",
              "      <td>2</td>\n",
              "      <td>2016</td>\n",
              "      <td>1</td>\n",
              "      <td>6</td>\n",
              "      <td>0</td>\n",
              "    </tr>\n",
              "    <tr>\n",
              "      <th>1</th>\n",
              "      <td>air_ba937bf13d40fb24</td>\n",
              "      <td>2016-01-14</td>\n",
              "      <td>32</td>\n",
              "      <td>3</td>\n",
              "      <td>2016</td>\n",
              "      <td>1</td>\n",
              "      <td>4</td>\n",
              "      <td>0</td>\n",
              "    </tr>\n",
              "    <tr>\n",
              "      <th>2</th>\n",
              "      <td>air_ba937bf13d40fb24</td>\n",
              "      <td>2016-01-15</td>\n",
              "      <td>29</td>\n",
              "      <td>4</td>\n",
              "      <td>2016</td>\n",
              "      <td>1</td>\n",
              "      <td>0</td>\n",
              "      <td>0</td>\n",
              "    </tr>\n",
              "    <tr>\n",
              "      <th>3</th>\n",
              "      <td>air_ba937bf13d40fb24</td>\n",
              "      <td>2016-01-16</td>\n",
              "      <td>22</td>\n",
              "      <td>5</td>\n",
              "      <td>2016</td>\n",
              "      <td>1</td>\n",
              "      <td>2</td>\n",
              "      <td>0</td>\n",
              "    </tr>\n",
              "    <tr>\n",
              "      <th>4</th>\n",
              "      <td>air_ba937bf13d40fb24</td>\n",
              "      <td>2016-01-18</td>\n",
              "      <td>6</td>\n",
              "      <td>0</td>\n",
              "      <td>2016</td>\n",
              "      <td>1</td>\n",
              "      <td>1</td>\n",
              "      <td>0</td>\n",
              "    </tr>\n",
              "  </tbody>\n",
              "</table>\n",
              "</div>"
            ],
            "text/plain": [
              "           air_store_id  visit_date  visitors  ...  month  day_of_week  holiday_flg\n",
              "0  air_ba937bf13d40fb24  2016-01-13        25  ...      1            6            0\n",
              "1  air_ba937bf13d40fb24  2016-01-14        32  ...      1            4            0\n",
              "2  air_ba937bf13d40fb24  2016-01-15        29  ...      1            0            0\n",
              "3  air_ba937bf13d40fb24  2016-01-16        22  ...      1            2            0\n",
              "4  air_ba937bf13d40fb24  2016-01-18         6  ...      1            1            0\n",
              "\n",
              "[5 rows x 8 columns]"
            ]
          },
          "metadata": {
            "tags": []
          },
          "execution_count": 497
        }
      ]
    },
    {
      "cell_type": "code",
      "metadata": {
        "colab": {
          "base_uri": "https://localhost:8080/",
          "height": 203
        },
        "id": "-J2xM-pR5q4D",
        "outputId": "0ae28600-c335-4b64-f348-3ab7abc67509"
      },
      "source": [
        "# test set도 같은 방식으로 합침\n",
        "test = pd.merge(data['tes'], data['hol'], how='left', on=['visit_date'])\n",
        "test.head()"
      ],
      "execution_count": null,
      "outputs": [
        {
          "output_type": "execute_result",
          "data": {
            "text/html": [
              "<div>\n",
              "<style scoped>\n",
              "    .dataframe tbody tr th:only-of-type {\n",
              "        vertical-align: middle;\n",
              "    }\n",
              "\n",
              "    .dataframe tbody tr th {\n",
              "        vertical-align: top;\n",
              "    }\n",
              "\n",
              "    .dataframe thead th {\n",
              "        text-align: right;\n",
              "    }\n",
              "</style>\n",
              "<table border=\"1\" class=\"dataframe\">\n",
              "  <thead>\n",
              "    <tr style=\"text-align: right;\">\n",
              "      <th></th>\n",
              "      <th>id</th>\n",
              "      <th>visitors</th>\n",
              "      <th>visit_date</th>\n",
              "      <th>air_store_id</th>\n",
              "      <th>dow</th>\n",
              "      <th>year</th>\n",
              "      <th>month</th>\n",
              "      <th>day_of_week</th>\n",
              "      <th>holiday_flg</th>\n",
              "    </tr>\n",
              "  </thead>\n",
              "  <tbody>\n",
              "    <tr>\n",
              "      <th>0</th>\n",
              "      <td>air_00a91d42b08b08d9_2017-04-23</td>\n",
              "      <td>0</td>\n",
              "      <td>2017-04-23</td>\n",
              "      <td>air_00a91d42b08b08d9</td>\n",
              "      <td>6</td>\n",
              "      <td>2017</td>\n",
              "      <td>4</td>\n",
              "      <td>3</td>\n",
              "      <td>0</td>\n",
              "    </tr>\n",
              "    <tr>\n",
              "      <th>1</th>\n",
              "      <td>air_00a91d42b08b08d9_2017-04-24</td>\n",
              "      <td>0</td>\n",
              "      <td>2017-04-24</td>\n",
              "      <td>air_00a91d42b08b08d9</td>\n",
              "      <td>0</td>\n",
              "      <td>2017</td>\n",
              "      <td>4</td>\n",
              "      <td>1</td>\n",
              "      <td>0</td>\n",
              "    </tr>\n",
              "    <tr>\n",
              "      <th>2</th>\n",
              "      <td>air_00a91d42b08b08d9_2017-04-25</td>\n",
              "      <td>0</td>\n",
              "      <td>2017-04-25</td>\n",
              "      <td>air_00a91d42b08b08d9</td>\n",
              "      <td>1</td>\n",
              "      <td>2017</td>\n",
              "      <td>4</td>\n",
              "      <td>5</td>\n",
              "      <td>0</td>\n",
              "    </tr>\n",
              "    <tr>\n",
              "      <th>3</th>\n",
              "      <td>air_00a91d42b08b08d9_2017-04-26</td>\n",
              "      <td>0</td>\n",
              "      <td>2017-04-26</td>\n",
              "      <td>air_00a91d42b08b08d9</td>\n",
              "      <td>2</td>\n",
              "      <td>2017</td>\n",
              "      <td>4</td>\n",
              "      <td>6</td>\n",
              "      <td>0</td>\n",
              "    </tr>\n",
              "    <tr>\n",
              "      <th>4</th>\n",
              "      <td>air_00a91d42b08b08d9_2017-04-27</td>\n",
              "      <td>0</td>\n",
              "      <td>2017-04-27</td>\n",
              "      <td>air_00a91d42b08b08d9</td>\n",
              "      <td>3</td>\n",
              "      <td>2017</td>\n",
              "      <td>4</td>\n",
              "      <td>4</td>\n",
              "      <td>0</td>\n",
              "    </tr>\n",
              "  </tbody>\n",
              "</table>\n",
              "</div>"
            ],
            "text/plain": [
              "                                id  visitors  ... day_of_week holiday_flg\n",
              "0  air_00a91d42b08b08d9_2017-04-23         0  ...           3           0\n",
              "1  air_00a91d42b08b08d9_2017-04-24         0  ...           1           0\n",
              "2  air_00a91d42b08b08d9_2017-04-25         0  ...           5           0\n",
              "3  air_00a91d42b08b08d9_2017-04-26         0  ...           6           0\n",
              "4  air_00a91d42b08b08d9_2017-04-27         0  ...           4           0\n",
              "\n",
              "[5 rows x 9 columns]"
            ]
          },
          "metadata": {
            "tags": []
          },
          "execution_count": 498
        }
      ]
    },
    {
      "cell_type": "markdown",
      "metadata": {
        "id": "I5SLZ5es6gFw"
      },
      "source": [
        "##### stores 데이터프레임을 train,test set에 추가하기"
      ]
    },
    {
      "cell_type": "code",
      "metadata": {
        "colab": {
          "base_uri": "https://localhost:8080/",
          "height": 223
        },
        "id": "LOZLPPO76C0T",
        "outputId": "2c18b465-d9d0-4d48-f368-6d1a74a05ebb"
      },
      "source": [
        "#아이디와 요일기준으로 합치기\n",
        "train = pd.merge(train, stores, how='left', on=['air_store_id', 'dow']) \n",
        "train.head()"
      ],
      "execution_count": null,
      "outputs": [
        {
          "output_type": "execute_result",
          "data": {
            "text/html": [
              "<div>\n",
              "<style scoped>\n",
              "    .dataframe tbody tr th:only-of-type {\n",
              "        vertical-align: middle;\n",
              "    }\n",
              "\n",
              "    .dataframe tbody tr th {\n",
              "        vertical-align: top;\n",
              "    }\n",
              "\n",
              "    .dataframe thead th {\n",
              "        text-align: right;\n",
              "    }\n",
              "</style>\n",
              "<table border=\"1\" class=\"dataframe\">\n",
              "  <thead>\n",
              "    <tr style=\"text-align: right;\">\n",
              "      <th></th>\n",
              "      <th>air_store_id</th>\n",
              "      <th>visit_date</th>\n",
              "      <th>visitors</th>\n",
              "      <th>dow</th>\n",
              "      <th>year</th>\n",
              "      <th>month</th>\n",
              "      <th>day_of_week</th>\n",
              "      <th>holiday_flg</th>\n",
              "      <th>min_visitors</th>\n",
              "      <th>mean_visitors</th>\n",
              "      <th>median_visitors</th>\n",
              "      <th>max_visitors</th>\n",
              "      <th>count_observations</th>\n",
              "      <th>air_genre_name</th>\n",
              "      <th>air_area_name</th>\n",
              "      <th>latitude</th>\n",
              "      <th>longitude</th>\n",
              "    </tr>\n",
              "  </thead>\n",
              "  <tbody>\n",
              "    <tr>\n",
              "      <th>0</th>\n",
              "      <td>air_ba937bf13d40fb24</td>\n",
              "      <td>2016-01-13</td>\n",
              "      <td>25</td>\n",
              "      <td>2</td>\n",
              "      <td>2016</td>\n",
              "      <td>1</td>\n",
              "      <td>6</td>\n",
              "      <td>0</td>\n",
              "      <td>7.0</td>\n",
              "      <td>23.843750</td>\n",
              "      <td>25.0</td>\n",
              "      <td>57.0</td>\n",
              "      <td>64.0</td>\n",
              "      <td>4.0</td>\n",
              "      <td>62.0</td>\n",
              "      <td>35.658068</td>\n",
              "      <td>139.751599</td>\n",
              "    </tr>\n",
              "    <tr>\n",
              "      <th>1</th>\n",
              "      <td>air_ba937bf13d40fb24</td>\n",
              "      <td>2016-01-14</td>\n",
              "      <td>32</td>\n",
              "      <td>3</td>\n",
              "      <td>2016</td>\n",
              "      <td>1</td>\n",
              "      <td>4</td>\n",
              "      <td>0</td>\n",
              "      <td>2.0</td>\n",
              "      <td>20.292308</td>\n",
              "      <td>21.0</td>\n",
              "      <td>54.0</td>\n",
              "      <td>65.0</td>\n",
              "      <td>4.0</td>\n",
              "      <td>62.0</td>\n",
              "      <td>35.658068</td>\n",
              "      <td>139.751599</td>\n",
              "    </tr>\n",
              "    <tr>\n",
              "      <th>2</th>\n",
              "      <td>air_ba937bf13d40fb24</td>\n",
              "      <td>2016-01-15</td>\n",
              "      <td>29</td>\n",
              "      <td>4</td>\n",
              "      <td>2016</td>\n",
              "      <td>1</td>\n",
              "      <td>0</td>\n",
              "      <td>0</td>\n",
              "      <td>4.0</td>\n",
              "      <td>34.738462</td>\n",
              "      <td>35.0</td>\n",
              "      <td>61.0</td>\n",
              "      <td>65.0</td>\n",
              "      <td>4.0</td>\n",
              "      <td>62.0</td>\n",
              "      <td>35.658068</td>\n",
              "      <td>139.751599</td>\n",
              "    </tr>\n",
              "    <tr>\n",
              "      <th>3</th>\n",
              "      <td>air_ba937bf13d40fb24</td>\n",
              "      <td>2016-01-16</td>\n",
              "      <td>22</td>\n",
              "      <td>5</td>\n",
              "      <td>2016</td>\n",
              "      <td>1</td>\n",
              "      <td>2</td>\n",
              "      <td>0</td>\n",
              "      <td>6.0</td>\n",
              "      <td>27.651515</td>\n",
              "      <td>27.0</td>\n",
              "      <td>53.0</td>\n",
              "      <td>66.0</td>\n",
              "      <td>4.0</td>\n",
              "      <td>62.0</td>\n",
              "      <td>35.658068</td>\n",
              "      <td>139.751599</td>\n",
              "    </tr>\n",
              "    <tr>\n",
              "      <th>4</th>\n",
              "      <td>air_ba937bf13d40fb24</td>\n",
              "      <td>2016-01-18</td>\n",
              "      <td>6</td>\n",
              "      <td>0</td>\n",
              "      <td>2016</td>\n",
              "      <td>1</td>\n",
              "      <td>1</td>\n",
              "      <td>0</td>\n",
              "      <td>2.0</td>\n",
              "      <td>13.754386</td>\n",
              "      <td>12.0</td>\n",
              "      <td>34.0</td>\n",
              "      <td>57.0</td>\n",
              "      <td>4.0</td>\n",
              "      <td>62.0</td>\n",
              "      <td>35.658068</td>\n",
              "      <td>139.751599</td>\n",
              "    </tr>\n",
              "  </tbody>\n",
              "</table>\n",
              "</div>"
            ],
            "text/plain": [
              "           air_store_id  visit_date  ...   latitude   longitude\n",
              "0  air_ba937bf13d40fb24  2016-01-13  ...  35.658068  139.751599\n",
              "1  air_ba937bf13d40fb24  2016-01-14  ...  35.658068  139.751599\n",
              "2  air_ba937bf13d40fb24  2016-01-15  ...  35.658068  139.751599\n",
              "3  air_ba937bf13d40fb24  2016-01-16  ...  35.658068  139.751599\n",
              "4  air_ba937bf13d40fb24  2016-01-18  ...  35.658068  139.751599\n",
              "\n",
              "[5 rows x 17 columns]"
            ]
          },
          "metadata": {
            "tags": []
          },
          "execution_count": 499
        }
      ]
    },
    {
      "cell_type": "code",
      "metadata": {
        "colab": {
          "base_uri": "https://localhost:8080/",
          "height": 307
        },
        "id": "d1LmJLWV6oSj",
        "outputId": "ca4fc2e3-230d-4c6d-f8e2-dfc6b024b587"
      },
      "source": [
        "# test set도 동일한 방식으로 합침\n",
        "test = pd.merge(test, stores, how='left', on=['air_store_id', 'dow'])\n",
        "test.head()"
      ],
      "execution_count": null,
      "outputs": [
        {
          "output_type": "execute_result",
          "data": {
            "text/html": [
              "<div>\n",
              "<style scoped>\n",
              "    .dataframe tbody tr th:only-of-type {\n",
              "        vertical-align: middle;\n",
              "    }\n",
              "\n",
              "    .dataframe tbody tr th {\n",
              "        vertical-align: top;\n",
              "    }\n",
              "\n",
              "    .dataframe thead th {\n",
              "        text-align: right;\n",
              "    }\n",
              "</style>\n",
              "<table border=\"1\" class=\"dataframe\">\n",
              "  <thead>\n",
              "    <tr style=\"text-align: right;\">\n",
              "      <th></th>\n",
              "      <th>id</th>\n",
              "      <th>visitors</th>\n",
              "      <th>visit_date</th>\n",
              "      <th>air_store_id</th>\n",
              "      <th>dow</th>\n",
              "      <th>year</th>\n",
              "      <th>month</th>\n",
              "      <th>day_of_week</th>\n",
              "      <th>holiday_flg</th>\n",
              "      <th>min_visitors</th>\n",
              "      <th>mean_visitors</th>\n",
              "      <th>median_visitors</th>\n",
              "      <th>max_visitors</th>\n",
              "      <th>count_observations</th>\n",
              "      <th>air_genre_name</th>\n",
              "      <th>air_area_name</th>\n",
              "      <th>latitude</th>\n",
              "      <th>longitude</th>\n",
              "    </tr>\n",
              "  </thead>\n",
              "  <tbody>\n",
              "    <tr>\n",
              "      <th>0</th>\n",
              "      <td>air_00a91d42b08b08d9_2017-04-23</td>\n",
              "      <td>0</td>\n",
              "      <td>2017-04-23</td>\n",
              "      <td>air_00a91d42b08b08d9</td>\n",
              "      <td>6</td>\n",
              "      <td>2017</td>\n",
              "      <td>4</td>\n",
              "      <td>3</td>\n",
              "      <td>0</td>\n",
              "      <td>2.0</td>\n",
              "      <td>2.000000</td>\n",
              "      <td>2.0</td>\n",
              "      <td>2.0</td>\n",
              "      <td>1.0</td>\n",
              "      <td>6</td>\n",
              "      <td>44</td>\n",
              "      <td>35.694003</td>\n",
              "      <td>139.753595</td>\n",
              "    </tr>\n",
              "    <tr>\n",
              "      <th>1</th>\n",
              "      <td>air_00a91d42b08b08d9_2017-04-24</td>\n",
              "      <td>0</td>\n",
              "      <td>2017-04-24</td>\n",
              "      <td>air_00a91d42b08b08d9</td>\n",
              "      <td>0</td>\n",
              "      <td>2017</td>\n",
              "      <td>4</td>\n",
              "      <td>1</td>\n",
              "      <td>0</td>\n",
              "      <td>1.0</td>\n",
              "      <td>22.457143</td>\n",
              "      <td>19.0</td>\n",
              "      <td>47.0</td>\n",
              "      <td>35.0</td>\n",
              "      <td>6</td>\n",
              "      <td>44</td>\n",
              "      <td>35.694003</td>\n",
              "      <td>139.753595</td>\n",
              "    </tr>\n",
              "    <tr>\n",
              "      <th>2</th>\n",
              "      <td>air_00a91d42b08b08d9_2017-04-25</td>\n",
              "      <td>0</td>\n",
              "      <td>2017-04-25</td>\n",
              "      <td>air_00a91d42b08b08d9</td>\n",
              "      <td>1</td>\n",
              "      <td>2017</td>\n",
              "      <td>4</td>\n",
              "      <td>5</td>\n",
              "      <td>0</td>\n",
              "      <td>1.0</td>\n",
              "      <td>24.350000</td>\n",
              "      <td>24.5</td>\n",
              "      <td>43.0</td>\n",
              "      <td>40.0</td>\n",
              "      <td>6</td>\n",
              "      <td>44</td>\n",
              "      <td>35.694003</td>\n",
              "      <td>139.753595</td>\n",
              "    </tr>\n",
              "    <tr>\n",
              "      <th>3</th>\n",
              "      <td>air_00a91d42b08b08d9_2017-04-26</td>\n",
              "      <td>0</td>\n",
              "      <td>2017-04-26</td>\n",
              "      <td>air_00a91d42b08b08d9</td>\n",
              "      <td>2</td>\n",
              "      <td>2017</td>\n",
              "      <td>4</td>\n",
              "      <td>6</td>\n",
              "      <td>0</td>\n",
              "      <td>15.0</td>\n",
              "      <td>28.125000</td>\n",
              "      <td>28.0</td>\n",
              "      <td>52.0</td>\n",
              "      <td>40.0</td>\n",
              "      <td>6</td>\n",
              "      <td>44</td>\n",
              "      <td>35.694003</td>\n",
              "      <td>139.753595</td>\n",
              "    </tr>\n",
              "    <tr>\n",
              "      <th>4</th>\n",
              "      <td>air_00a91d42b08b08d9_2017-04-27</td>\n",
              "      <td>0</td>\n",
              "      <td>2017-04-27</td>\n",
              "      <td>air_00a91d42b08b08d9</td>\n",
              "      <td>3</td>\n",
              "      <td>2017</td>\n",
              "      <td>4</td>\n",
              "      <td>4</td>\n",
              "      <td>0</td>\n",
              "      <td>15.0</td>\n",
              "      <td>29.868421</td>\n",
              "      <td>30.0</td>\n",
              "      <td>47.0</td>\n",
              "      <td>38.0</td>\n",
              "      <td>6</td>\n",
              "      <td>44</td>\n",
              "      <td>35.694003</td>\n",
              "      <td>139.753595</td>\n",
              "    </tr>\n",
              "  </tbody>\n",
              "</table>\n",
              "</div>"
            ],
            "text/plain": [
              "                                id  visitors  ...   latitude   longitude\n",
              "0  air_00a91d42b08b08d9_2017-04-23         0  ...  35.694003  139.753595\n",
              "1  air_00a91d42b08b08d9_2017-04-24         0  ...  35.694003  139.753595\n",
              "2  air_00a91d42b08b08d9_2017-04-25         0  ...  35.694003  139.753595\n",
              "3  air_00a91d42b08b08d9_2017-04-26         0  ...  35.694003  139.753595\n",
              "4  air_00a91d42b08b08d9_2017-04-27         0  ...  35.694003  139.753595\n",
              "\n",
              "[5 rows x 18 columns]"
            ]
          },
          "metadata": {
            "tags": []
          },
          "execution_count": 500
        }
      ]
    },
    {
      "cell_type": "markdown",
      "metadata": {
        "id": "riiDgNcL9cxR"
      },
      "source": [
        "##### train,test set에 air_store_id와 visit_date기준으로 reservation_diff랑 예약손님 수 컬럼 넣기"
      ]
    },
    {
      "cell_type": "code",
      "metadata": {
        "id": "Z8KlGv1p88JF"
      },
      "source": [
        "for df in ['ar', 'hr']:\n",
        "    train = pd.merge(\n",
        "        train, data[df], how='left', on=['air_store_id', 'visit_date'])\n",
        "    test = pd.merge(\n",
        "        test, data[df], how='left', on=['air_store_id', 'visit_date'])"
      ],
      "execution_count": null,
      "outputs": []
    },
    {
      "cell_type": "code",
      "metadata": {
        "colab": {
          "base_uri": "https://localhost:8080/",
          "height": 162
        },
        "id": "5OW9-01L874Z",
        "outputId": "24228c08-11e0-4b57-b717-9647723adebc"
      },
      "source": [
        "train.head(3)"
      ],
      "execution_count": null,
      "outputs": [
        {
          "output_type": "execute_result",
          "data": {
            "text/html": [
              "<div>\n",
              "<style scoped>\n",
              "    .dataframe tbody tr th:only-of-type {\n",
              "        vertical-align: middle;\n",
              "    }\n",
              "\n",
              "    .dataframe tbody tr th {\n",
              "        vertical-align: top;\n",
              "    }\n",
              "\n",
              "    .dataframe thead th {\n",
              "        text-align: right;\n",
              "    }\n",
              "</style>\n",
              "<table border=\"1\" class=\"dataframe\">\n",
              "  <thead>\n",
              "    <tr style=\"text-align: right;\">\n",
              "      <th></th>\n",
              "      <th>air_store_id</th>\n",
              "      <th>visit_date</th>\n",
              "      <th>visitors</th>\n",
              "      <th>dow</th>\n",
              "      <th>year</th>\n",
              "      <th>month</th>\n",
              "      <th>day_of_week</th>\n",
              "      <th>holiday_flg</th>\n",
              "      <th>min_visitors</th>\n",
              "      <th>mean_visitors</th>\n",
              "      <th>median_visitors</th>\n",
              "      <th>max_visitors</th>\n",
              "      <th>count_observations</th>\n",
              "      <th>air_genre_name</th>\n",
              "      <th>air_area_name</th>\n",
              "      <th>latitude</th>\n",
              "      <th>longitude</th>\n",
              "      <th>reserve_datetime_diff_x</th>\n",
              "      <th>reserve_visitors_x</th>\n",
              "      <th>reserve_datetime_diff_y</th>\n",
              "      <th>reserve_visitors_y</th>\n",
              "    </tr>\n",
              "  </thead>\n",
              "  <tbody>\n",
              "    <tr>\n",
              "      <th>0</th>\n",
              "      <td>air_ba937bf13d40fb24</td>\n",
              "      <td>2016-01-13</td>\n",
              "      <td>25</td>\n",
              "      <td>2</td>\n",
              "      <td>2016</td>\n",
              "      <td>1</td>\n",
              "      <td>6</td>\n",
              "      <td>0</td>\n",
              "      <td>7.0</td>\n",
              "      <td>23.843750</td>\n",
              "      <td>25.0</td>\n",
              "      <td>57.0</td>\n",
              "      <td>64.0</td>\n",
              "      <td>4.0</td>\n",
              "      <td>62.0</td>\n",
              "      <td>35.658068</td>\n",
              "      <td>139.751599</td>\n",
              "      <td>NaN</td>\n",
              "      <td>NaN</td>\n",
              "      <td>NaN</td>\n",
              "      <td>NaN</td>\n",
              "    </tr>\n",
              "    <tr>\n",
              "      <th>1</th>\n",
              "      <td>air_ba937bf13d40fb24</td>\n",
              "      <td>2016-01-14</td>\n",
              "      <td>32</td>\n",
              "      <td>3</td>\n",
              "      <td>2016</td>\n",
              "      <td>1</td>\n",
              "      <td>4</td>\n",
              "      <td>0</td>\n",
              "      <td>2.0</td>\n",
              "      <td>20.292308</td>\n",
              "      <td>21.0</td>\n",
              "      <td>54.0</td>\n",
              "      <td>65.0</td>\n",
              "      <td>4.0</td>\n",
              "      <td>62.0</td>\n",
              "      <td>35.658068</td>\n",
              "      <td>139.751599</td>\n",
              "      <td>NaN</td>\n",
              "      <td>NaN</td>\n",
              "      <td>NaN</td>\n",
              "      <td>NaN</td>\n",
              "    </tr>\n",
              "    <tr>\n",
              "      <th>2</th>\n",
              "      <td>air_ba937bf13d40fb24</td>\n",
              "      <td>2016-01-15</td>\n",
              "      <td>29</td>\n",
              "      <td>4</td>\n",
              "      <td>2016</td>\n",
              "      <td>1</td>\n",
              "      <td>0</td>\n",
              "      <td>0</td>\n",
              "      <td>4.0</td>\n",
              "      <td>34.738462</td>\n",
              "      <td>35.0</td>\n",
              "      <td>61.0</td>\n",
              "      <td>65.0</td>\n",
              "      <td>4.0</td>\n",
              "      <td>62.0</td>\n",
              "      <td>35.658068</td>\n",
              "      <td>139.751599</td>\n",
              "      <td>NaN</td>\n",
              "      <td>NaN</td>\n",
              "      <td>NaN</td>\n",
              "      <td>NaN</td>\n",
              "    </tr>\n",
              "  </tbody>\n",
              "</table>\n",
              "</div>"
            ],
            "text/plain": [
              "           air_store_id  ... reserve_visitors_y\n",
              "0  air_ba937bf13d40fb24  ...                NaN\n",
              "1  air_ba937bf13d40fb24  ...                NaN\n",
              "2  air_ba937bf13d40fb24  ...                NaN\n",
              "\n",
              "[3 rows x 21 columns]"
            ]
          },
          "metadata": {
            "tags": []
          },
          "execution_count": 502
        }
      ]
    },
    {
      "cell_type": "code",
      "metadata": {
        "id": "I7aMALjk91c4"
      },
      "source": [
        "# train과 test데이터 모두 결측치는 -1로 채운다.\n",
        "train = train.fillna(-1)\n",
        "test = test.fillna(-1)"
      ],
      "execution_count": null,
      "outputs": []
    },
    {
      "cell_type": "code",
      "metadata": {
        "colab": {
          "base_uri": "https://localhost:8080/",
          "height": 223
        },
        "id": "Xwvw1usa-n8V",
        "outputId": "11f4936b-aff3-45f5-a3b5-a5974ec95128"
      },
      "source": [
        "train.head()"
      ],
      "execution_count": null,
      "outputs": [
        {
          "output_type": "execute_result",
          "data": {
            "text/html": [
              "<div>\n",
              "<style scoped>\n",
              "    .dataframe tbody tr th:only-of-type {\n",
              "        vertical-align: middle;\n",
              "    }\n",
              "\n",
              "    .dataframe tbody tr th {\n",
              "        vertical-align: top;\n",
              "    }\n",
              "\n",
              "    .dataframe thead th {\n",
              "        text-align: right;\n",
              "    }\n",
              "</style>\n",
              "<table border=\"1\" class=\"dataframe\">\n",
              "  <thead>\n",
              "    <tr style=\"text-align: right;\">\n",
              "      <th></th>\n",
              "      <th>air_store_id</th>\n",
              "      <th>visit_date</th>\n",
              "      <th>visitors</th>\n",
              "      <th>dow</th>\n",
              "      <th>year</th>\n",
              "      <th>month</th>\n",
              "      <th>day_of_week</th>\n",
              "      <th>holiday_flg</th>\n",
              "      <th>min_visitors</th>\n",
              "      <th>mean_visitors</th>\n",
              "      <th>median_visitors</th>\n",
              "      <th>max_visitors</th>\n",
              "      <th>count_observations</th>\n",
              "      <th>air_genre_name</th>\n",
              "      <th>air_area_name</th>\n",
              "      <th>latitude</th>\n",
              "      <th>longitude</th>\n",
              "      <th>reserve_datetime_diff_x</th>\n",
              "      <th>reserve_visitors_x</th>\n",
              "      <th>reserve_datetime_diff_y</th>\n",
              "      <th>reserve_visitors_y</th>\n",
              "    </tr>\n",
              "  </thead>\n",
              "  <tbody>\n",
              "    <tr>\n",
              "      <th>0</th>\n",
              "      <td>air_ba937bf13d40fb24</td>\n",
              "      <td>2016-01-13</td>\n",
              "      <td>25</td>\n",
              "      <td>2</td>\n",
              "      <td>2016</td>\n",
              "      <td>1</td>\n",
              "      <td>6</td>\n",
              "      <td>0</td>\n",
              "      <td>7.0</td>\n",
              "      <td>23.843750</td>\n",
              "      <td>25.0</td>\n",
              "      <td>57.0</td>\n",
              "      <td>64.0</td>\n",
              "      <td>4.0</td>\n",
              "      <td>62.0</td>\n",
              "      <td>35.658068</td>\n",
              "      <td>139.751599</td>\n",
              "      <td>-1.0</td>\n",
              "      <td>-1.0</td>\n",
              "      <td>-1.0</td>\n",
              "      <td>-1.0</td>\n",
              "    </tr>\n",
              "    <tr>\n",
              "      <th>1</th>\n",
              "      <td>air_ba937bf13d40fb24</td>\n",
              "      <td>2016-01-14</td>\n",
              "      <td>32</td>\n",
              "      <td>3</td>\n",
              "      <td>2016</td>\n",
              "      <td>1</td>\n",
              "      <td>4</td>\n",
              "      <td>0</td>\n",
              "      <td>2.0</td>\n",
              "      <td>20.292308</td>\n",
              "      <td>21.0</td>\n",
              "      <td>54.0</td>\n",
              "      <td>65.0</td>\n",
              "      <td>4.0</td>\n",
              "      <td>62.0</td>\n",
              "      <td>35.658068</td>\n",
              "      <td>139.751599</td>\n",
              "      <td>-1.0</td>\n",
              "      <td>-1.0</td>\n",
              "      <td>-1.0</td>\n",
              "      <td>-1.0</td>\n",
              "    </tr>\n",
              "    <tr>\n",
              "      <th>2</th>\n",
              "      <td>air_ba937bf13d40fb24</td>\n",
              "      <td>2016-01-15</td>\n",
              "      <td>29</td>\n",
              "      <td>4</td>\n",
              "      <td>2016</td>\n",
              "      <td>1</td>\n",
              "      <td>0</td>\n",
              "      <td>0</td>\n",
              "      <td>4.0</td>\n",
              "      <td>34.738462</td>\n",
              "      <td>35.0</td>\n",
              "      <td>61.0</td>\n",
              "      <td>65.0</td>\n",
              "      <td>4.0</td>\n",
              "      <td>62.0</td>\n",
              "      <td>35.658068</td>\n",
              "      <td>139.751599</td>\n",
              "      <td>-1.0</td>\n",
              "      <td>-1.0</td>\n",
              "      <td>-1.0</td>\n",
              "      <td>-1.0</td>\n",
              "    </tr>\n",
              "    <tr>\n",
              "      <th>3</th>\n",
              "      <td>air_ba937bf13d40fb24</td>\n",
              "      <td>2016-01-16</td>\n",
              "      <td>22</td>\n",
              "      <td>5</td>\n",
              "      <td>2016</td>\n",
              "      <td>1</td>\n",
              "      <td>2</td>\n",
              "      <td>0</td>\n",
              "      <td>6.0</td>\n",
              "      <td>27.651515</td>\n",
              "      <td>27.0</td>\n",
              "      <td>53.0</td>\n",
              "      <td>66.0</td>\n",
              "      <td>4.0</td>\n",
              "      <td>62.0</td>\n",
              "      <td>35.658068</td>\n",
              "      <td>139.751599</td>\n",
              "      <td>-1.0</td>\n",
              "      <td>-1.0</td>\n",
              "      <td>-1.0</td>\n",
              "      <td>-1.0</td>\n",
              "    </tr>\n",
              "    <tr>\n",
              "      <th>4</th>\n",
              "      <td>air_ba937bf13d40fb24</td>\n",
              "      <td>2016-01-18</td>\n",
              "      <td>6</td>\n",
              "      <td>0</td>\n",
              "      <td>2016</td>\n",
              "      <td>1</td>\n",
              "      <td>1</td>\n",
              "      <td>0</td>\n",
              "      <td>2.0</td>\n",
              "      <td>13.754386</td>\n",
              "      <td>12.0</td>\n",
              "      <td>34.0</td>\n",
              "      <td>57.0</td>\n",
              "      <td>4.0</td>\n",
              "      <td>62.0</td>\n",
              "      <td>35.658068</td>\n",
              "      <td>139.751599</td>\n",
              "      <td>-1.0</td>\n",
              "      <td>-1.0</td>\n",
              "      <td>-1.0</td>\n",
              "      <td>-1.0</td>\n",
              "    </tr>\n",
              "  </tbody>\n",
              "</table>\n",
              "</div>"
            ],
            "text/plain": [
              "           air_store_id  ... reserve_visitors_y\n",
              "0  air_ba937bf13d40fb24  ...               -1.0\n",
              "1  air_ba937bf13d40fb24  ...               -1.0\n",
              "2  air_ba937bf13d40fb24  ...               -1.0\n",
              "3  air_ba937bf13d40fb24  ...               -1.0\n",
              "4  air_ba937bf13d40fb24  ...               -1.0\n",
              "\n",
              "[5 rows x 21 columns]"
            ]
          },
          "metadata": {
            "tags": []
          },
          "execution_count": 504
        }
      ]
    },
    {
      "cell_type": "markdown",
      "metadata": {
        "id": "cL7ntYcg-5ON"
      },
      "source": [
        "##### Binding to float32"
      ]
    },
    {
      "cell_type": "code",
      "metadata": {
        "id": "SpGHrVJH-wvj"
      },
      "source": [
        "for c, dtype in zip(train.columns, train.dtypes):\n",
        "    if dtype == np.float64:\n",
        "        train[c] = train[c].astype(np.float32)\n",
        "\n",
        "for c, dtype in zip(test.columns, test.dtypes):\n",
        "    if dtype == np.float64:\n",
        "        test[c] = test[c].astype(np.float32)"
      ],
      "execution_count": null,
      "outputs": []
    },
    {
      "cell_type": "markdown",
      "metadata": {
        "id": "OUoOigqyYOb4"
      },
      "source": [
        "##### weather 데이터 추가"
      ]
    },
    {
      "cell_type": "code",
      "metadata": {
        "id": "TBnyOifQYSqk"
      },
      "source": [
        "# datetime 데이터 타입으로 변경\n",
        "train.visit_date = pd.to_datetime(train.visit_date)\n",
        "test.visit_date = pd.to_datetime(test.visit_date)"
      ],
      "execution_count": null,
      "outputs": []
    },
    {
      "cell_type": "code",
      "metadata": {
        "colab": {
          "base_uri": "https://localhost:8080/"
        },
        "id": "558kKGv4YSXM",
        "outputId": "b81b9709-79d6-457a-8eaa-74c5c68ee24a"
      },
      "source": [
        "def add_weather(dataset):                                                                                                                     \n",
        "    print('Adding weather...')                                                                                                                \n",
        "    air_nearest = pd.read_csv(                                                                                                                \n",
        "        '/content/gdrive/MyDrive/AIFFEL/해커톤 1/recruit-restaurant-visitor-forecasting/air_store_info_with_nearest_active_station.csv')                                                              \n",
        "    unique_air_store_ids = list(dataset.air_store_id.unique())                                                                                \n",
        "                                                                                                                                              \n",
        "    weather_dir = '/content/gdrive/MyDrive/AIFFEL/해커톤 1/recruit-restaurant-visitor-forecasting/1-1-16_5-31-17_Weather/'                                                                         \n",
        "    weather_keep_columns = ['precipitation', 'avg_temperature'] # 강수량, 평균 온도 데이터                                                                                                                                \n",
        "                                                                                                                                              \n",
        "    dataset_with_weather = dataset.copy()                                                                                                     \n",
        "    for column in weather_keep_columns:                                                                                                       \n",
        "        dataset_with_weather[column] = np.nan                                                                                                 \n",
        "                                                                                                                                              \n",
        "    for air_id in unique_air_store_ids:                                                                                                       \n",
        "        station = air_nearest[air_nearest.air_store_id == air_id].station_id.iloc[0]                                                          \n",
        "        weather_data = pd.read_csv(weather_dir + station + '.csv', parse_dates=['calendar_date']).rename(columns={'calendar_date': 'visit_date'})                                                                                                                                           \n",
        "                                                                                                                                              \n",
        "        this_store = dataset.air_store_id == air_id                                                                                           \n",
        "        merged = dataset[this_store].merge(weather_data, on='visit_date', how='left')                                                         \n",
        "                                                                                                                                              \n",
        "        for column in weather_keep_columns:                                                                                                   \n",
        "            dataset_with_weather.loc[this_store, column] = merged[column]                                                                     \n",
        "    return dataset_with_weather                                                                                                               \n",
        "# 컬럼 추가                                                                                                                                             \n",
        "train = add_weather(train)                                                                                                                    \n",
        "test = add_weather(test)  "
      ],
      "execution_count": null,
      "outputs": [
        {
          "output_type": "stream",
          "text": [
            "Adding weather...\n",
            "Adding weather...\n"
          ],
          "name": "stdout"
        }
      ]
    },
    {
      "cell_type": "code",
      "metadata": {
        "colab": {
          "base_uri": "https://localhost:8080/",
          "height": 162
        },
        "id": "Q_NGGkJgYSJA",
        "outputId": "cdb23a32-2cf8-4359-c76a-f9ef0dbd6006"
      },
      "source": [
        "# train set 확인\n",
        "train.head(3)"
      ],
      "execution_count": null,
      "outputs": [
        {
          "output_type": "execute_result",
          "data": {
            "text/html": [
              "<div>\n",
              "<style scoped>\n",
              "    .dataframe tbody tr th:only-of-type {\n",
              "        vertical-align: middle;\n",
              "    }\n",
              "\n",
              "    .dataframe tbody tr th {\n",
              "        vertical-align: top;\n",
              "    }\n",
              "\n",
              "    .dataframe thead th {\n",
              "        text-align: right;\n",
              "    }\n",
              "</style>\n",
              "<table border=\"1\" class=\"dataframe\">\n",
              "  <thead>\n",
              "    <tr style=\"text-align: right;\">\n",
              "      <th></th>\n",
              "      <th>air_store_id</th>\n",
              "      <th>visit_date</th>\n",
              "      <th>visitors</th>\n",
              "      <th>dow</th>\n",
              "      <th>year</th>\n",
              "      <th>month</th>\n",
              "      <th>day_of_week</th>\n",
              "      <th>holiday_flg</th>\n",
              "      <th>min_visitors</th>\n",
              "      <th>mean_visitors</th>\n",
              "      <th>median_visitors</th>\n",
              "      <th>max_visitors</th>\n",
              "      <th>count_observations</th>\n",
              "      <th>air_genre_name</th>\n",
              "      <th>air_area_name</th>\n",
              "      <th>latitude</th>\n",
              "      <th>longitude</th>\n",
              "      <th>reserve_datetime_diff_x</th>\n",
              "      <th>reserve_visitors_x</th>\n",
              "      <th>reserve_datetime_diff_y</th>\n",
              "      <th>reserve_visitors_y</th>\n",
              "      <th>precipitation</th>\n",
              "      <th>avg_temperature</th>\n",
              "    </tr>\n",
              "  </thead>\n",
              "  <tbody>\n",
              "    <tr>\n",
              "      <th>0</th>\n",
              "      <td>air_ba937bf13d40fb24</td>\n",
              "      <td>2016-01-13</td>\n",
              "      <td>25</td>\n",
              "      <td>2</td>\n",
              "      <td>2016</td>\n",
              "      <td>1</td>\n",
              "      <td>6</td>\n",
              "      <td>0</td>\n",
              "      <td>7.0</td>\n",
              "      <td>23.843750</td>\n",
              "      <td>25.0</td>\n",
              "      <td>57.0</td>\n",
              "      <td>64.0</td>\n",
              "      <td>4.0</td>\n",
              "      <td>62.0</td>\n",
              "      <td>35.65807</td>\n",
              "      <td>139.751602</td>\n",
              "      <td>-1.0</td>\n",
              "      <td>-1.0</td>\n",
              "      <td>-1.0</td>\n",
              "      <td>-1.0</td>\n",
              "      <td>NaN</td>\n",
              "      <td>4.3</td>\n",
              "    </tr>\n",
              "    <tr>\n",
              "      <th>1</th>\n",
              "      <td>air_ba937bf13d40fb24</td>\n",
              "      <td>2016-01-14</td>\n",
              "      <td>32</td>\n",
              "      <td>3</td>\n",
              "      <td>2016</td>\n",
              "      <td>1</td>\n",
              "      <td>4</td>\n",
              "      <td>0</td>\n",
              "      <td>2.0</td>\n",
              "      <td>20.292307</td>\n",
              "      <td>21.0</td>\n",
              "      <td>54.0</td>\n",
              "      <td>65.0</td>\n",
              "      <td>4.0</td>\n",
              "      <td>62.0</td>\n",
              "      <td>35.65807</td>\n",
              "      <td>139.751602</td>\n",
              "      <td>-1.0</td>\n",
              "      <td>-1.0</td>\n",
              "      <td>-1.0</td>\n",
              "      <td>-1.0</td>\n",
              "      <td>NaN</td>\n",
              "      <td>6.0</td>\n",
              "    </tr>\n",
              "    <tr>\n",
              "      <th>2</th>\n",
              "      <td>air_ba937bf13d40fb24</td>\n",
              "      <td>2016-01-15</td>\n",
              "      <td>29</td>\n",
              "      <td>4</td>\n",
              "      <td>2016</td>\n",
              "      <td>1</td>\n",
              "      <td>0</td>\n",
              "      <td>0</td>\n",
              "      <td>4.0</td>\n",
              "      <td>34.738461</td>\n",
              "      <td>35.0</td>\n",
              "      <td>61.0</td>\n",
              "      <td>65.0</td>\n",
              "      <td>4.0</td>\n",
              "      <td>62.0</td>\n",
              "      <td>35.65807</td>\n",
              "      <td>139.751602</td>\n",
              "      <td>-1.0</td>\n",
              "      <td>-1.0</td>\n",
              "      <td>-1.0</td>\n",
              "      <td>-1.0</td>\n",
              "      <td>0.0</td>\n",
              "      <td>5.6</td>\n",
              "    </tr>\n",
              "  </tbody>\n",
              "</table>\n",
              "</div>"
            ],
            "text/plain": [
              "           air_store_id visit_date  ...  precipitation  avg_temperature\n",
              "0  air_ba937bf13d40fb24 2016-01-13  ...            NaN              4.3\n",
              "1  air_ba937bf13d40fb24 2016-01-14  ...            NaN              6.0\n",
              "2  air_ba937bf13d40fb24 2016-01-15  ...            0.0              5.6\n",
              "\n",
              "[3 rows x 23 columns]"
            ]
          },
          "metadata": {
            "tags": []
          },
          "execution_count": 508
        }
      ]
    },
    {
      "cell_type": "code",
      "metadata": {
        "colab": {
          "base_uri": "https://localhost:8080/"
        },
        "id": "4vicz7c-a6wf",
        "outputId": "7e1a10af-0868-42b2-eaf3-8ea013acc86f"
      },
      "source": [
        "train.info()"
      ],
      "execution_count": null,
      "outputs": [
        {
          "output_type": "stream",
          "text": [
            "<class 'pandas.core.frame.DataFrame'>\n",
            "Int64Index: 252103 entries, 0 to 252102\n",
            "Data columns (total 23 columns):\n",
            " #   Column                   Non-Null Count   Dtype         \n",
            "---  ------                   --------------   -----         \n",
            " 0   air_store_id             252103 non-null  object        \n",
            " 1   visit_date               252103 non-null  datetime64[ns]\n",
            " 2   visitors                 252103 non-null  int64         \n",
            " 3   dow                      252103 non-null  int64         \n",
            " 4   year                     252103 non-null  int64         \n",
            " 5   month                    252103 non-null  int64         \n",
            " 6   day_of_week              252103 non-null  int64         \n",
            " 7   holiday_flg              252103 non-null  int64         \n",
            " 8   min_visitors             252103 non-null  float32       \n",
            " 9   mean_visitors            252103 non-null  float32       \n",
            " 10  median_visitors          252103 non-null  float32       \n",
            " 11  max_visitors             252103 non-null  float32       \n",
            " 12  count_observations       252103 non-null  float32       \n",
            " 13  air_genre_name           252103 non-null  float32       \n",
            " 14  air_area_name            252103 non-null  float32       \n",
            " 15  latitude                 252103 non-null  float32       \n",
            " 16  longitude                252103 non-null  float32       \n",
            " 17  reserve_datetime_diff_x  252103 non-null  float32       \n",
            " 18  reserve_visitors_x       252103 non-null  float32       \n",
            " 19  reserve_datetime_diff_y  252103 non-null  float32       \n",
            " 20  reserve_visitors_y       252103 non-null  float32       \n",
            " 21  precipitation            204 non-null     float64       \n",
            " 22  avg_temperature          391 non-null     float64       \n",
            "dtypes: datetime64[ns](1), float32(13), float64(2), int64(6), object(1)\n",
            "memory usage: 33.7+ MB\n"
          ],
          "name": "stdout"
        }
      ]
    },
    {
      "cell_type": "markdown",
      "metadata": {
        "id": "d1_6oZG2XThV"
      },
      "source": [
        "##### train_x,train_y, test_x "
      ]
    },
    {
      "cell_type": "code",
      "metadata": {
        "colab": {
          "base_uri": "https://localhost:8080/"
        },
        "id": "tZfXtVee-7Uu",
        "outputId": "0b81c9a4-e871-4a50-b1fb-c1377f3792ee"
      },
      "source": [
        "train_x = train.drop(['air_store_id', 'visit_date', 'visitors'], axis=1)\n",
        "train_y = np.log1p(train['visitors'].values) # target값 로그변환시켜 정규화\n",
        "print(train_x.shape, train_y.shape)\n",
        "test_x = test.drop(['id', 'air_store_id', 'visit_date', 'visitors'], axis=1)"
      ],
      "execution_count": null,
      "outputs": [
        {
          "output_type": "stream",
          "text": [
            "(252103, 20) (252103,)\n"
          ],
          "name": "stdout"
        }
      ]
    },
    {
      "cell_type": "markdown",
      "metadata": {
        "id": "AvGSQ47ybQKi"
      },
      "source": [
        "# **모델 생성 및 학습**"
      ]
    },
    {
      "cell_type": "code",
      "metadata": {
        "colab": {
          "base_uri": "https://localhost:8080/"
        },
        "id": "rtB3jQkT_Jnx",
        "outputId": "861da795-f5d3-49d0-8f4c-82ce612e3978"
      },
      "source": [
        "# parameter tuning of lightgbm\n",
        "# start from default setting\n",
        "gbm0 = lgb.LGBMRegressor(\n",
        "    objective='regression',\n",
        "    num_leaves=60,\n",
        "    learning_rate=0.01,\n",
        "    n_estimators=10000,random_state=0)\n",
        "gbm0.fit(train_x, train_y, eval_metric='rmse')"
      ],
      "execution_count": null,
      "outputs": [
        {
          "output_type": "execute_result",
          "data": {
            "text/plain": [
              "LGBMRegressor(boosting_type='gbdt', class_weight=None, colsample_bytree=1.0,\n",
              "              importance_type='split', learning_rate=0.01, max_depth=-1,\n",
              "              min_child_samples=20, min_child_weight=0.001, min_split_gain=0.0,\n",
              "              n_estimators=10000, n_jobs=-1, num_leaves=60,\n",
              "              objective='regression', random_state=0, reg_alpha=0.0,\n",
              "              reg_lambda=0.0, silent=True, subsample=1.0,\n",
              "              subsample_for_bin=200000, subsample_freq=0)"
            ]
          },
          "metadata": {
            "tags": []
          },
          "execution_count": 511
        }
      ]
    },
    {
      "cell_type": "markdown",
      "metadata": {
        "id": "eY6rVWfbbcZx"
      },
      "source": [
        "# **예측 및 제출 파일 생성**"
      ]
    },
    {
      "cell_type": "code",
      "metadata": {
        "id": "V6ERGQtG_Tml"
      },
      "source": [
        "predict_y = gbm0.predict(test_x)\n",
        "test['visitors'] = np.expm1(predict_y)\n",
        "test[['id', 'visitors']].to_csv(\n",
        "    'gbm0_submission_outlier450.csv', index=False, float_format='%.3f') "
      ],
      "execution_count": null,
      "outputs": []
    },
    {
      "cell_type": "markdown",
      "metadata": {
        "id": "vvFXGm-QYWmS"
      },
      "source": [
        "# 회고"
      ]
    },
    {
      "cell_type": "markdown",
      "metadata": {
        "id": "oPB-H2dFYp8q"
      },
      "source": [
        "1) air_visit_data에서 visitors의 최댓값이 877명이었다. <br>\n",
        "휴일도 아니었고 골든위크도 아닌데 왜 이렇게 많았던 것일까? 심지어 평소엔 많이 와도 20명정도인 가게였다. => 이상치라고 생각!\n",
        "![image.png](data:image/png;base64,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) <br>\n",
        "![image.png](data:image/png;base64,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)\n"
      ]
    },
    {
      "cell_type": "markdown",
      "metadata": {
        "id": "Lg_kNN5tbP1o"
      },
      "source": [
        "2) 노쇼 데이터<br>\n",
        "노쇼를 한건지에 대해 알 수 있을까 궁금하여 air예약정보 데이터와 실제 방문 데이터를 합쳤다. <br>\n",
        "![image.png](data:image/png;base64,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) <br>\n",
        "air 예약 정보의 air_store_id 기준으로 합쳤더니 실제 방문자 수 관련 컬럼에 NaN 값(visitors 컬럼에서 1766개의 null값)이 존재했다. <br>\n",
        "![image.png](data:image/png;base64,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) <br>\n",
        "null 값을 가진 데이터의 air_store_id와 관련된 데이터를 air_visit_data에서 찾아보면 2017년 4월 23일부터 visit 데이터가 존재하지 않는다. 폐업한걸까? 아니면 그냥 방문자 기록을 안 한걸까? 노쇼를 했는데 기록이 안 된것일까? <br>\n",
        "=> 한 가게의 예약한 날짜의 손님수와 그날 실제 방문한 손님수 비교를 하면 노쇼데이터를 알 수 있을거 같았지만 예약을 안 하고 방문한 손님이 더 많을시엔 비교가 불가능하다고 생각했다.\n"
      ]
    },
    {
      "cell_type": "markdown",
      "metadata": {
        "id": "nRc1S_VTewsV"
      },
      "source": [
        "3) 날씨데이터 <br>\n",
        "날씨데이터를 가져오는 코드가 적힌 커널을 참고하였다. 거의다 Nan 값이여서 결측치를 어떻게 채워야되나 고민하였다. 평균넣기, 결측치 바로 이전의 값으로 채우기(method='pad) 등의 방법을 써봤지만 그냥 NaN 그대로 학습 시켰을 때가 점수가 가장 좋았다. 결측치를 어떻게 처리해야될까?"
      ]
    }
  ]
}